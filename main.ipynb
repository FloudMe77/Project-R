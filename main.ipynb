{
 "cells": [
  {
   "cell_type": "code",
   "execution_count": null,
   "metadata": {
    "vscode": {
     "languageId": "r"
    }
   },
   "outputs": [],
   "source": [
    "library(smoof)\n",
    "library(ggplot2)\n",
    "library(dplyr)\n",
    "library(GA)"
   ]
  },
  {
   "cell_type": "markdown",
   "metadata": {},
   "source": [
    "Deklaracja funkcji testowych"
   ]
  },
  {
   "cell_type": "code",
   "execution_count": null,
   "metadata": {
    "vscode": {
     "languageId": "r"
    }
   },
   "outputs": [],
   "source": [
    "rosenbrock_2d <- makeRosenbrockFunction(dimensions = 2)\n",
    "rosenbrock_10d <- makeRosenbrockFunction(dimensions = 10)\n",
    "rosenbrock_20d <- makeRosenbrockFunction(dimensions = 20)\n",
    "\n",
    "rastrigin_2d <- makeRastriginFunction(dimensions = 2)\n",
    "rastrigin_10d <- makeRastriginFunction(dimensions = 10)\n",
    "rastrigin_20d <- makeRastriginFunction(dimensions = 20)\n",
    "\n",
    "NO_STARTS <- 50\n",
    "set.seed(42)\n",
    "\n",
    "get_domain <- function(fun) {\n",
    "  list(\n",
    "    lower = getLowerBoxConstraints(fun),\n",
    "    upper = getUpperBoxConstraints(fun)\n",
    "  )\n",
    "}\n",
    "\n",
    "domains <- list(\n",
    "  rosenbrock_2d = get_domain(rosenbrock_2d),\n",
    "  rosenbrock_10d = get_domain(rosenbrock_10d),\n",
    "  rosenbrock_20d = get_domain(rosenbrock_20d),\n",
    "  rastrigin_2d = get_domain(rastrigin_2d),\n",
    "  rastrigin_10d = get_domain(rastrigin_10d),\n",
    "  rastrigin_20d = get_domain(rastrigin_20d)\n",
    ")\n",
    "\n",
    "# print(domains)"
   ]
  },
  {
   "cell_type": "markdown",
   "metadata": {},
   "source": [
    "Funkcja ms_run znajduje minimum funcji za pomocą algorytmu MS"
   ]
  },
  {
   "cell_type": "code",
   "execution_count": null,
   "metadata": {
    "vscode": {
     "languageId": "r"
    }
   },
   "outputs": [],
   "source": [
    "# ms_run <- function(fun, domain, starts) {\n",
    "#   total_evals <- 0\n",
    "#   best_value <- Inf\n",
    "  \n",
    "#   for (i in 1:starts) {\n",
    "#     x0 <- runif(length(domain$lower), domain$lower, domain$upper)\n",
    "    \n",
    "#     result <- optim(x0, fun, method = \"L-BFGS-B\", lower = domain$lower, upper = domain$upper)\n",
    "    \n",
    "#     total_evals <- total_evals + result$counts[[\"function\"]]\n",
    "#     if (result$value < best_value) best_value <- result$value\n",
    "#   }\n",
    "  \n",
    "#   list(best = best_value, evals = total_evals)\n",
    "# }"
   ]
  },
  {
   "cell_type": "markdown",
   "metadata": {},
   "source": [
    "Funkcja ga_run znajduje minimum funcji za pomocą algorytmu GA ( biblioteka GA )"
   ]
  },
  {
   "cell_type": "code",
   "execution_count": null,
   "metadata": {
    "vscode": {
     "languageId": "r"
    }
   },
   "outputs": [],
   "source": [
    "ga_run <- function(fun, domain, budget) {\n",
    "  ga_result <- ga(\n",
    "    type = \"real-valued\",\n",
    "    fitness = function(x) -fun(x),\n",
    "    lower = domain$lower,\n",
    "    upper = domain$upper,\n",
    "    popSize = 50,\n",
    "    maxiter = budget,\n",
    "    run = 20,             # Stop if the best solution doesn't improve for 20 generations\n",
    "    monitor = FALSE\n",
    "  )\n",
    "  \n",
    "  return(-ga_result@fitnessValue)  # GA maximizes, so return the negative value\n",
    "}"
   ]
  },
  {
   "cell_type": "markdown",
   "metadata": {},
   "source": [
    "algorytm prs"
   ]
  },
  {
   "cell_type": "code",
   "execution_count": null,
   "metadata": {
    "vscode": {
     "languageId": "r"
    }
   },
   "outputs": [],
   "source": [
    "prs_run <- function(fun, domain, budget) {\n",
    "  best_value <- Inf\n",
    "  \n",
    "  for (i in 1:budget) {\n",
    "    x0 <- runif(length(domain$lower), domain$lower, domain$upper)\n",
    "    result <- fun(x0)\n",
    "    best_value <- min(best_value, result)\n",
    "  }\n",
    "  \n",
    "  return(best_value)\n",
    "}"
   ]
  },
  {
   "cell_type": "markdown",
   "metadata": {},
   "source": [
    "Wykonanie pomiarów"
   ]
  },
  {
   "cell_type": "code",
   "execution_count": null,
   "metadata": {
    "vscode": {
     "languageId": "r"
    }
   },
   "outputs": [],
   "source": [
    "run_experiments <- function(fun, domain, algorithm, budget, starts = NO_STARTS) {\n",
    "  if (algorithm == \"MS\") {\n",
    "    replicate(50, ms_run(fun, domain, starts)$best)\n",
    "  } else if (algorithm == \"GA\") {\n",
    "    replicate(50, ga_run(fun, domain, budget))\n",
    "  } else if (algorithm == \"PRS\") {\n",
    "    replicate(50, prs_run(fun, domain, budget))\n",
    "  }\n",
    "}\n",
    "\n",
    "experiments <- list(\n",
    "  rosenbrock_2d = list(fun = rosenbrock_2d, domain = domains$rosenbrock_2d),\n",
    "  rosenbrock_10d = list(fun = rosenbrock_10d, domain = domains$rosenbrock_10d),\n",
    "  rosenbrock_20d = list(fun = rosenbrock_20d, domain = domains$rosenbrock_20d),\n",
    "  rastrigin_2d = list(fun = rastrigin_2d, domain = domains$rastrigin_2d),\n",
    "  rastrigin_10d = list(fun = rastrigin_10d, domain = domains$rastrigin_10d),\n",
    "  rastrigin_20d = list(fun = rastrigin_20d, domain = domains$rastrigin_20d)\n",
    ")\n",
    "\n",
    "ga_results <- lapply(seq_along(experiments), function(i) {\n",
    "  run_experiments(experiments[[i]]$fun, experiments[[i]]$domain, \"GA\", budget = 1000)\n",
    "})\n",
    "\n",
    "prs_results <- lapply(seq_along(experiments), function(i) {\n",
    "  run_experiments(experiments[[i]]$fun, experiments[[i]]$domain, \"PRS\", budget = 1000)\n",
    "})\n",
    "\n",
    "results <- data.frame(\n",
    "  Function = rep(names(experiments), each = 50),\n",
    "  Algorithm = rep(c(\"PRS\", \"GA\"), each = 50 * length(experiments)),\n",
    "  Value = c(unlist(prs_results), unlist(ga_results))\n",
    ")\n",
    "\n",
    "print(results)"
   ]
  },
  {
   "cell_type": "markdown",
   "metadata": {},
   "source": [
    "Zapis do CSV"
   ]
  },
  {
   "cell_type": "code",
   "execution_count": null,
   "metadata": {
    "vscode": {
     "languageId": "r"
    }
   },
   "outputs": [],
   "source": [
    "# PRS\n",
    "for (i in seq_along(prs_results)) {\n",
    "    data <- unlist(prs_results[i])\n",
    "\n",
    "    file_name <- paste0(\"./data/\", names(experiments[i]),\"PRS\", \".csv\")\n",
    "    \n",
    "    write.csv(data, file = file_name, row.names = FALSE)\n",
    "}\n",
    "\n",
    "# GA\n",
    "for (i in seq_along(ga_results)) {\n",
    "    data <- unlist(ga_results[i])\n",
    "\n",
    "    file_name <- paste0(\"./data/\", names(experiments[i]),\"GA\", \".csv\")\n",
    "    \n",
    "    write.csv(data, file = file_name, row.names = FALSE)\n",
    "}\n",
    "# full res\n",
    "write.csv(results, file = \"./data/results\", row.names = FALSE)"
   ]
  },
  {
   "cell_type": "markdown",
   "metadata": {},
   "source": [
    "Wykresy"
   ]
  },
  {
   "cell_type": "code",
   "execution_count": null,
   "metadata": {
    "vscode": {
     "languageId": "r"
    }
   },
   "outputs": [],
   "source": [
    "ggplot(results, aes(x = Function, y = Value, fill = Algorithm)) +\n",
    "  geom_boxplot() +\n",
    "  facet_wrap(~Function, scales = \"free\") +\n",
    "  labs(title = \"Comparison of PRS and GA on Rosenbrock and Rastrigin Functions\",\n",
    "       y = \"Minimum Function Value\",\n",
    "       x = \"Function and Dimension\") +\n",
    "  theme_minimal()"
   ]
  },
  {
   "cell_type": "code",
   "execution_count": null,
   "metadata": {
    "vscode": {
     "languageId": "r"
    }
   },
   "outputs": [],
   "source": [
    "ggplot(results, aes(x = Function, y = Value, fill = Algorithm)) +\n",
    "  geom_violin() +\n",
    "  facet_wrap(~Algorithm + Function, scales = \"free\") +\n",
    "  labs(title = \"Comparison of PRS and GA on Rosenbrock and Rastrigin Functions\",\n",
    "       y = \"Minimum Function Value\",\n",
    "       x = \"Function and Dimension\") +\n",
    "  theme_minimal()"
   ]
  },
  {
   "cell_type": "code",
   "execution_count": null,
   "metadata": {
    "vscode": {
     "languageId": "r"
    }
   },
   "outputs": [],
   "source": [
    "generate_plot <- function(data, function_name, algorithm_name) {\n",
    "  subset_data <- data %>%\n",
    "    filter(Function == function_name, Algorithm == algorithm_name)\n",
    "  \n",
    "  subset_data <- subset_data %>%\n",
    "    filter(!is.na(Value) & is.finite(Value))\n",
    "\n",
    "  median_value <- median(subset_data$Value, na.rm = TRUE)\n",
    "  iqr_value <- IQR(subset_data$Value, na.rm = TRUE)\n",
    "\n",
    "  upper_quantile <- quantile(subset_data$Value, 0.75, na.rm = TRUE)\n",
    "  lower_quantile <- quantile(subset_data$Value, 0.25, na.rm = TRUE)\n",
    "  \n",
    "  subset_data <- subset_data %>%\n",
    "    filter(Value >= (lower_quantile - 1.5 * iqr_value) & Value <= (upper_quantile + 1.5 * iqr_value))\n",
    "  \n",
    "  bin_width <- diff(range(subset_data$Value)) / 30\n",
    "  \n",
    "  ggplot(subset_data, aes(x = Value)) +\n",
    "    geom_histogram(binwidth = bin_width, fill = \"blue\", color = \"black\", alpha = 0.5) +\n",
    "    geom_vline(aes(xintercept = min(Value, na.rm = TRUE)), color = \"green\", size = 1) +\n",
    "    geom_vline(aes(xintercept = mean(Value, na.rm = TRUE)), color = \"red\", linetype = \"dashed\", size = 1) +\n",
    "    labs(\n",
    "      title = paste(function_name, algorithm_name),\n",
    "      x = \"Values\",\n",
    "      y = \"Count\"\n",
    "    ) +\n",
    "    theme_minimal()\n",
    "}\n",
    "\n",
    "for (function_name in c(\"rosenbrock_2d\", \"rosenbrock_10d\", \"rosenbrock_20d\", \"rastrigin_2d\", \"rastrigin_10d\", \"rastrigin_20d\")) {\n",
    "  for (algorithm_name in c(\"PRS\", \"GA\")) {\n",
    "    # print(paste(\"Generating plot for\", function_name, algorithm_name))\n",
    "    plot <- generate_plot(results, function_name, algorithm_name)\n",
    "    if (!is.null(plot)) print(plot)\n",
    "  }\n",
    "}\n"
   ]
  },
  {
   "cell_type": "code",
   "execution_count": null,
   "metadata": {
    "vscode": {
     "languageId": "r"
    }
   },
   "outputs": [],
   "source": [
    "statistical_analysis <- function(results) {\n",
    "  results %>%\n",
    "    group_by(Function, Algorithm) %>%\n",
    "    summarise(Mean = mean(Value), SD = sd(Value)) %>%\n",
    "    ungroup()\n",
    "}\n",
    "\n",
    "t_tests <- lapply(names(experiments), function(fun) {\n",
    "  ms_values <- results %>% filter(Function == fun & Algorithm == \"PRS\") %>% pull(Value)\n",
    "  ga_values <- results %>% filter(Function == fun & Algorithm == \"GA\") %>% pull(Value)\n",
    "  t.test(ms_values, ga_values)\n",
    "})\n",
    "\n",
    "t_tests"
   ]
  },
  {
   "cell_type": "code",
   "execution_count": null,
   "metadata": {
    "vscode": {
     "languageId": "r"
    }
   },
   "outputs": [],
   "source": []
  }
 ],
 "metadata": {
  "kernelspec": {
   "display_name": "R",
   "language": "R",
   "name": "ir"
  },
  "language_info": {
   "codemirror_mode": "r",
   "file_extension": ".r",
   "mimetype": "text/x-r-source",
   "name": "R",
   "pygments_lexer": "r",
   "version": "4.4.2"
  }
 },
 "nbformat": 4,
 "nbformat_minor": 2
}
