{
 "cells": [
  {
   "cell_type": "code",
   "execution_count": null,
   "metadata": {
    "vscode": {
     "languageId": "r"
    }
   },
   "outputs": [],
   "source": [
    "library(smoof)\n",
    "library(ggplot2)\n",
    "library(dplyr)\n",
    "library(GA)"
   ]
  },
  {
   "cell_type": "code",
   "execution_count": null,
   "metadata": {
    "vscode": {
     "languageId": "r"
    }
   },
   "outputs": [],
   "source": [
    "rosenbrock_2d <- makeRosenbrockFunction(dimensions = 2)\n",
    "rosenbrock_10d <- makeRosenbrockFunction(dimensions = 10)\n",
    "rosenbrock_20d <- makeRosenbrockFunction(dimensions = 20)\n",
    "\n",
    "rastrigin_2d <- makeRastriginFunction(dimensions = 2)\n",
    "rastrigin_10d <- makeRastriginFunction(dimensions = 10)\n",
    "rastrigin_20d <- makeRastriginFunction(dimensions = 20)\n",
    "\n",
    "NO_STARTS <- 50\n",
    "\n",
    "get_domain <- function(fun) {\n",
    "  list(\n",
    "    lower = getLowerBoxConstraints(fun),\n",
    "    upper = getUpperBoxConstraints(fun)\n",
    "  )\n",
    "}\n",
    "\n",
    "domains <- list(\n",
    "  rosenbrock_2d = get_domain(rosenbrock_2d),\n",
    "  rosenbrock_10d = get_domain(rosenbrock_10d),\n",
    "  rosenbrock_20d = get_domain(rosenbrock_20d),\n",
    "  rastrigin_2d = get_domain(rastrigin_2d),\n",
    "  rastrigin_10d = get_domain(rastrigin_10d),\n",
    "  rastrigin_20d = get_domain(rastrigin_20d)\n",
    ")\n",
    "\n",
    "print(domains)"
   ]
  },
  {
   "cell_type": "code",
   "execution_count": null,
   "metadata": {
    "vscode": {
     "languageId": "r"
    }
   },
   "outputs": [],
   "source": [
    "ms_run <- function(fun, domain, starts) {\n",
    "  total_evals <- 0\n",
    "  best_value <- Inf\n",
    "  \n",
    "  for (i in 1:starts) {\n",
    "    x0 <- runif(length(domain$lower), domain$lower, domain$upper)\n",
    "    \n",
    "    result <- optim(x0, fun, method = \"L-BFGS-B\", lower = domain$lower, upper = domain$upper)\n",
    "    \n",
    "    total_evals <- total_evals + result$counts[[\"function\"]]\n",
    "    if (result$value < best_value) best_value <- result$value\n",
    "  }\n",
    "  \n",
    "  list(best = best_value, evals = total_evals)\n",
    "}"
   ]
  },
  {
   "cell_type": "code",
   "execution_count": null,
   "metadata": {
    "vscode": {
     "languageId": "r"
    }
   },
   "outputs": [],
   "source": [
    "run_experiments <- function(fun, domain, algorithm, budget, starts = NO_STARTS) {\n",
    "  if (algorithm == \"MS\") {\n",
    "    replicate(50, ms_run(fun, domain, starts)$best)\n",
    "  } else if (algorithm == \"GA\") {\n",
    "    replicate(50, ga_run(fun, domain, budget))\n",
    "  }\n",
    "}\n",
    "\n",
    "ga_run <- function(fun, domain, budget) {\n",
    "  ga_result <- ga(\n",
    "    type = \"real-valued\",\n",
    "    fitness = function(x) -fun(x),\n",
    "    lower = domain$lower,\n",
    "    upper = domain$upper,\n",
    "    popSize = 50,\n",
    "    maxiter = budget,\n",
    "    run = 10,             # Stop if the best solution doesn't improve for 10 generations\n",
    "    monitor = FALSE\n",
    "  )\n",
    "  \n",
    "  return(-ga_result@fitnessValue)  # GA maximizes, so return the negative value\n",
    "}\n",
    "\n",
    "experiments <- list(\n",
    "  rosenbrock_2d = list(fun = rosenbrock_2d, domain = domains$rosenbrock_2d),\n",
    "  rosenbrock_10d = list(fun = rosenbrock_10d, domain = domains$rosenbrock_10d),\n",
    "  rosenbrock_20d = list(fun = rosenbrock_20d, domain = domains$rosenbrock_20d),\n",
    "  rastrigin_2d = list(fun = rastrigin_2d, domain = domains$rastrigin_2d),\n",
    "  rastrigin_10d = list(fun = rastrigin_10d, domain = domains$rastrigin_10d),\n",
    "  rastrigin_20d = list(fun = rastrigin_20d, domain = domains$rastrigin_20d)\n",
    ")\n",
    "\n",
    "ms_results <- lapply(experiments, function(exp) {\n",
    "  ms_run(exp$fun, exp$domain, starts = NO_STARTS)\n",
    "})\n",
    "\n",
    "budget <- mean(sapply(ms_results, function(res) res$evals))\n",
    "\n",
    "ga_results <- lapply(seq_along(experiments), function(i) {\n",
    "  run_experiments(experiments[[i]]$fun, experiments[[i]]$domain, \"GA\", budget = budget)\n",
    "})\n",
    "\n",
    "ms_best_values <- lapply(ms_results, function(res) rep(res$best, 50))\n",
    "\n",
    "results <- data.frame(\n",
    "  Function = rep(names(experiments), each = 50),\n",
    "  Algorithm = rep(c(\"MS\", \"GA\"), each = 50 * length(experiments)),\n",
    "  Value = c(unlist(ms_best_values), unlist(ga_results))\n",
    ")\n",
    "\n",
    "print(results)"
   ]
  },
  {
   "cell_type": "code",
   "execution_count": null,
   "metadata": {
    "vscode": {
     "languageId": "r"
    }
   },
   "outputs": [],
   "source": [
    "# res <- results %>% group_by(Function) %>% arrange(desc(Value)) %>% slice(-1:-5)\n",
    "res <- results"
   ]
  },
  {
   "cell_type": "code",
   "execution_count": null,
   "metadata": {
    "vscode": {
     "languageId": "r"
    }
   },
   "outputs": [],
   "source": [
    "ggplot(res, aes(x = Function, y = Value, fill = Algorithm)) +\n",
    "  geom_boxplot() +\n",
    "  facet_wrap(~Function, scales = \"free\") +\n",
    "  labs(title = \"Comparison of PRS and MS on Rosenbrock and Rastrigin Functions\",\n",
    "       y = \"Minimum Function Value\",\n",
    "       x = \"Function and Dimension\") +\n",
    "  theme_minimal()"
   ]
  },
  {
   "cell_type": "code",
   "execution_count": null,
   "metadata": {
    "vscode": {
     "languageId": "r"
    }
   },
   "outputs": [],
   "source": [
    "statistical_analysis <- function(results) {\n",
    "  results %>%\n",
    "    group_by(Function, Algorithm) %>%\n",
    "    summarise(Mean = mean(Value), SD = sd(Value)) %>%\n",
    "    ungroup()\n",
    "}\n",
    "\n",
    "t_tests <- lapply(names(experiments), function(fun) {\n",
    "  ms_values <- results %>% filter(Function == fun & Algorithm == \"MS\") %>% pull(Value)\n",
    "  ga_values <- results %>% filter(Function == fun & Algorithm == \"GA\") %>% pull(Value)\n",
    "  t.test(ms_values, ga_values)\n",
    "})\n",
    "\n",
    "t_tests"
   ]
  },
  {
   "cell_type": "code",
   "execution_count": null,
   "metadata": {
    "vscode": {
     "languageId": "r"
    }
   },
   "outputs": [],
   "source": []
  }
 ],
 "metadata": {
  "kernelspec": {
   "display_name": "R",
   "language": "R",
   "name": "ir"
  },
  "language_info": {
   "codemirror_mode": "r",
   "file_extension": ".r",
   "mimetype": "text/x-r-source",
   "name": "R",
   "pygments_lexer": "r",
   "version": "4.4.2"
  }
 },
 "nbformat": 4,
 "nbformat_minor": 2
}
