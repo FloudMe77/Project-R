{
 "cells": [
  {
   "cell_type": "code",
   "execution_count": 1,
   "metadata": {
    "vscode": {
     "languageId": "r"
    }
   },
   "outputs": [
    {
     "name": "stderr",
     "output_type": "stream",
     "text": [
      "Warning message:\n",
      "\"pakiet 'smoof' został zbudowany w wersji R 4.4.2\"\n",
      "Ładowanie wymaganego pakietu: ParamHelpers\n",
      "\n",
      "Warning message:\n",
      "\"pakiet 'ParamHelpers' został zbudowany w wersji R 4.4.2\"\n",
      "Ładowanie wymaganego pakietu: checkmate\n",
      "\n",
      "Warning message:\n",
      "\"pakiet 'checkmate' został zbudowany w wersji R 4.4.2\"\n",
      "Warning message:\n",
      "\"pakiet 'ggplot2' został zbudowany w wersji R 4.4.2\"\n",
      "Warning message:\n",
      "\"pakiet 'dplyr' został zbudowany w wersji R 4.4.2\"\n",
      "\n",
      "Dołączanie pakietu: 'dplyr'\n",
      "\n",
      "\n",
      "Następujące obiekty zostały zakryte z 'package:stats':\n",
      "\n",
      "    filter, lag\n",
      "\n",
      "\n",
      "Następujące obiekty zostały zakryte z 'package:base':\n",
      "\n",
      "    intersect, setdiff, setequal, union\n",
      "\n",
      "\n",
      "Warning message:\n",
      "\"pakiet 'GA' został zbudowany w wersji R 4.4.2\"\n",
      "Ładowanie wymaganego pakietu: foreach\n",
      "\n",
      "Warning message:\n",
      "\"pakiet 'foreach' został zbudowany w wersji R 4.4.2\"\n",
      "Ładowanie wymaganego pakietu: iterators\n",
      "\n",
      "Warning message:\n",
      "\"pakiet 'iterators' został zbudowany w wersji R 4.4.2\"\n",
      "Package 'GA' version 3.2.4\n",
      "Type 'citation(\"GA\")' for citing this R package in publications.\n",
      "\n",
      "\n",
      "Dołączanie pakietu: 'GA'\n",
      "\n",
      "\n",
      "Następujący obiekt został zakryty z 'package:utils':\n",
      "\n",
      "    de\n",
      "\n",
      "\n"
     ]
    }
   ],
   "source": [
    "library(smoof)\n",
    "library(ggplot2)\n",
    "library(dplyr)\n",
    "library(GA)"
   ]
  },
  {
   "cell_type": "markdown",
   "metadata": {},
   "source": [
    "Deklaracja funkcji testowych"
   ]
  },
  {
   "cell_type": "code",
   "execution_count": 13,
   "metadata": {
    "vscode": {
     "languageId": "r"
    }
   },
   "outputs": [
    {
     "name": "stdout",
     "output_type": "stream",
     "text": [
      "$rosenbrock_2d\n",
      "$rosenbrock_2d$lower\n",
      "x1 x2 \n",
      "-5 -5 \n",
      "\n",
      "$rosenbrock_2d$upper\n",
      "x1 x2 \n",
      "10 10 \n",
      "\n",
      "\n",
      "$rosenbrock_10d\n",
      "$rosenbrock_10d$lower\n",
      " x1  x2  x3  x4  x5  x6  x7  x8  x9 x10 \n",
      " -5  -5  -5  -5  -5  -5  -5  -5  -5  -5 \n",
      "\n",
      "$rosenbrock_10d$upper\n",
      " x1  x2  x3  x4  x5  x6  x7  x8  x9 x10 \n",
      " 10  10  10  10  10  10  10  10  10  10 \n",
      "\n",
      "\n",
      "$rosenbrock_20d\n",
      "$rosenbrock_20d$lower\n",
      " x1  x2  x3  x4  x5  x6  x7  x8  x9 x10 x11 x12 x13 x14 x15 x16 x17 x18 x19 x20 \n",
      " -5  -5  -5  -5  -5  -5  -5  -5  -5  -5  -5  -5  -5  -5  -5  -5  -5  -5  -5  -5 \n",
      "\n",
      "$rosenbrock_20d$upper\n",
      " x1  x2  x3  x4  x5  x6  x7  x8  x9 x10 x11 x12 x13 x14 x15 x16 x17 x18 x19 x20 \n",
      " 10  10  10  10  10  10  10  10  10  10  10  10  10  10  10  10  10  10  10  10 \n",
      "\n",
      "\n",
      "$rastrigin_2d\n",
      "$rastrigin_2d$lower\n",
      "   x1    x2 \n",
      "-5.12 -5.12 \n",
      "\n",
      "$rastrigin_2d$upper\n",
      "  x1   x2 \n",
      "5.12 5.12 \n",
      "\n",
      "\n",
      "$rastrigin_10d\n",
      "$rastrigin_10d$lower\n",
      "   x1    x2    x3    x4    x5    x6    x7    x8    x9   x10 \n",
      "-5.12 -5.12 -5.12 -5.12 -5.12 -5.12 -5.12 -5.12 -5.12 -5.12 \n",
      "\n",
      "$rastrigin_10d$upper\n",
      "  x1   x2   x3   x4   x5   x6   x7   x8   x9  x10 \n",
      "5.12 5.12 5.12 5.12 5.12 5.12 5.12 5.12 5.12 5.12 \n",
      "\n",
      "\n",
      "$rastrigin_20d\n",
      "$rastrigin_20d$lower\n",
      "   x1    x2    x3    x4    x5    x6    x7    x8    x9   x10   x11   x12   x13 \n",
      "-5.12 -5.12 -5.12 -5.12 -5.12 -5.12 -5.12 -5.12 -5.12 -5.12 -5.12 -5.12 -5.12 \n",
      "  x14   x15   x16   x17   x18   x19   x20 \n",
      "-5.12 -5.12 -5.12 -5.12 -5.12 -5.12 -5.12 \n",
      "\n",
      "$rastrigin_20d$upper\n",
      "  x1   x2   x3   x4   x5   x6   x7   x8   x9  x10  x11  x12  x13  x14  x15  x16 \n",
      "5.12 5.12 5.12 5.12 5.12 5.12 5.12 5.12 5.12 5.12 5.12 5.12 5.12 5.12 5.12 5.12 \n",
      " x17  x18  x19  x20 \n",
      "5.12 5.12 5.12 5.12 \n",
      "\n",
      "\n"
     ]
    }
   ],
   "source": [
    "rosenbrock_2d <- makeRosenbrockFunction(dimensions = 2)\n",
    "rosenbrock_10d <- makeRosenbrockFunction(dimensions = 10)\n",
    "rosenbrock_20d <- makeRosenbrockFunction(dimensions = 20)\n",
    "\n",
    "rastrigin_2d <- makeRastriginFunction(dimensions = 2)\n",
    "rastrigin_10d <- makeRastriginFunction(dimensions = 10)\n",
    "rastrigin_20d <- makeRastriginFunction(dimensions = 20)\n",
    "\n",
    "NO_STARTS <- 50\n",
    "set.seed(42)\n",
    "\n",
    "get_domain <- function(fun) {\n",
    "  list(\n",
    "    lower = getLowerBoxConstraints(fun),\n",
    "    upper = getUpperBoxConstraints(fun)\n",
    "  )\n",
    "}\n",
    "\n",
    "domains <- list(\n",
    "  rosenbrock_2d = get_domain(rosenbrock_2d),\n",
    "  rosenbrock_10d = get_domain(rosenbrock_10d),\n",
    "  rosenbrock_20d = get_domain(rosenbrock_20d),\n",
    "  rastrigin_2d = get_domain(rastrigin_2d),\n",
    "  rastrigin_10d = get_domain(rastrigin_10d),\n",
    "  rastrigin_20d = get_domain(rastrigin_20d)\n",
    ")\n",
    "\n",
    "print(domains)"
   ]
  },
  {
   "cell_type": "markdown",
   "metadata": {},
   "source": [
    "Funkcja ms_run znajduje minimum funcji za pomocą algorytmu MS"
   ]
  },
  {
   "cell_type": "code",
   "execution_count": 3,
   "metadata": {
    "vscode": {
     "languageId": "r"
    }
   },
   "outputs": [],
   "source": [
    "# ms_run <- function(fun, domain, starts) {\n",
    "#   total_evals <- 0\n",
    "#   best_value <- Inf\n",
    "  \n",
    "#   for (i in 1:starts) {\n",
    "#     x0 <- runif(length(domain$lower), domain$lower, domain$upper)\n",
    "    \n",
    "#     result <- optim(x0, fun, method = \"L-BFGS-B\", lower = domain$lower, upper = domain$upper)\n",
    "    \n",
    "#     total_evals <- total_evals + result$counts[[\"function\"]]\n",
    "#     if (result$value < best_value) best_value <- result$value\n",
    "#   }\n",
    "  \n",
    "#   list(best = best_value, evals = total_evals)\n",
    "# }"
   ]
  },
  {
   "cell_type": "markdown",
   "metadata": {},
   "source": [
    "Funkcja ga_run znajduje minimum funcji za pomocą algorytmu GA ( biblioteka GA )"
   ]
  },
  {
   "cell_type": "code",
   "execution_count": 4,
   "metadata": {
    "vscode": {
     "languageId": "r"
    }
   },
   "outputs": [],
   "source": [
    "ga_run <- function(fun, domain, budget) {\n",
    "  ga_result <- ga(\n",
    "    type = \"real-valued\",\n",
    "    fitness = function(x) -fun(x),\n",
    "    lower = domain$lower,\n",
    "    upper = domain$upper,\n",
    "    popSize = 50,\n",
    "    maxiter = budget,\n",
    "    run = 20,             # Stop if the best solution doesn't improve for 20 generations\n",
    "    monitor = FALSE\n",
    "  )\n",
    "  \n",
    "  return(-ga_result@fitnessValue)  # GA maximizes, so return the negative value\n",
    "}"
   ]
  },
  {
   "cell_type": "markdown",
   "metadata": {},
   "source": [
    "algorytm prs"
   ]
  },
  {
   "cell_type": "code",
   "execution_count": 5,
   "metadata": {
    "vscode": {
     "languageId": "r"
    }
   },
   "outputs": [],
   "source": [
    "prs_run <- function(fun, domain, budget) {\n",
    "  best_value <- Inf\n",
    "  \n",
    "  for (i in 1:budget) {\n",
    "    x0 <- runif(length(domain$lower), domain$lower, domain$upper)\n",
    "    result <- fun(x0)\n",
    "    best_value <- min(best_value, result)\n",
    "  }\n",
    "  \n",
    "  return(best_value)\n",
    "}"
   ]
  },
  {
   "cell_type": "markdown",
   "metadata": {},
   "source": [
    "Wykonanie pomiarów"
   ]
  },
  {
   "cell_type": "code",
   "execution_count": 6,
   "metadata": {
    "vscode": {
     "languageId": "r"
    }
   },
   "outputs": [
    {
     "name": "stdout",
     "output_type": "stream",
     "text": [
      "          Function Algorithm        Value\n",
      "1    rosenbrock_2d       PRS 9.881513e-01\n",
      "2    rosenbrock_2d       PRS 1.693598e-01\n",
      "3    rosenbrock_2d       PRS 4.167135e-01\n",
      "4    rosenbrock_2d       PRS 8.358815e-01\n",
      "5    rosenbrock_2d       PRS 9.349126e-01\n",
      "6    rosenbrock_2d       PRS 2.519220e+00\n",
      "7    rosenbrock_2d       PRS 4.007618e-01\n",
      "8    rosenbrock_2d       PRS 5.633791e-01\n",
      "9    rosenbrock_2d       PRS 1.041423e+00\n",
      "10   rosenbrock_2d       PRS 1.810152e-01\n",
      "11   rosenbrock_2d       PRS 3.794722e-02\n",
      "12   rosenbrock_2d       PRS 3.091512e-03\n",
      "13   rosenbrock_2d       PRS 2.255308e-02\n",
      "14   rosenbrock_2d       PRS 2.186002e-02\n",
      "15   rosenbrock_2d       PRS 6.611732e-02\n",
      "16   rosenbrock_2d       PRS 5.772517e-01\n",
      "17   rosenbrock_2d       PRS 3.045121e-01\n",
      "18   rosenbrock_2d       PRS 1.100637e+00\n",
      "19   rosenbrock_2d       PRS 6.730725e-02\n",
      "20   rosenbrock_2d       PRS 6.616047e-02\n",
      "21   rosenbrock_2d       PRS 1.574410e-01\n",
      "22   rosenbrock_2d       PRS 7.646595e-02\n",
      "23   rosenbrock_2d       PRS 9.871984e-01\n",
      "24   rosenbrock_2d       PRS 1.925055e+00\n",
      "25   rosenbrock_2d       PRS 1.837666e+00\n",
      "26   rosenbrock_2d       PRS 1.120770e-01\n",
      "27   rosenbrock_2d       PRS 3.563810e-01\n",
      "28   rosenbrock_2d       PRS 7.679334e-01\n",
      "29   rosenbrock_2d       PRS 3.153976e-01\n",
      "30   rosenbrock_2d       PRS 5.640135e-01\n",
      "31   rosenbrock_2d       PRS 1.981509e+00\n",
      "32   rosenbrock_2d       PRS 1.113578e+00\n",
      "33   rosenbrock_2d       PRS 9.995195e-01\n",
      "34   rosenbrock_2d       PRS 1.490601e+00\n",
      "35   rosenbrock_2d       PRS 1.126357e+00\n",
      "36   rosenbrock_2d       PRS 7.780324e-01\n",
      "37   rosenbrock_2d       PRS 2.443186e+00\n",
      "38   rosenbrock_2d       PRS 1.451643e+00\n",
      "39   rosenbrock_2d       PRS 1.128668e-01\n",
      "40   rosenbrock_2d       PRS 4.911408e-01\n",
      "41   rosenbrock_2d       PRS 4.306385e-01\n",
      "42   rosenbrock_2d       PRS 2.222706e-01\n",
      "43   rosenbrock_2d       PRS 5.700580e-01\n",
      "44   rosenbrock_2d       PRS 5.877499e-01\n",
      "45   rosenbrock_2d       PRS 5.087939e-02\n",
      "46   rosenbrock_2d       PRS 1.323680e-02\n",
      "47   rosenbrock_2d       PRS 6.814056e-01\n",
      "48   rosenbrock_2d       PRS 4.993124e-01\n",
      "49   rosenbrock_2d       PRS 7.789070e-01\n",
      "50   rosenbrock_2d       PRS 3.237879e-01\n",
      "51  rosenbrock_10d       PRS 2.429244e+04\n",
      "52  rosenbrock_10d       PRS 2.806817e+04\n",
      "53  rosenbrock_10d       PRS 3.179292e+04\n",
      "54  rosenbrock_10d       PRS 4.654307e+04\n",
      "55  rosenbrock_10d       PRS 2.353073e+04\n",
      "56  rosenbrock_10d       PRS 4.076847e+04\n",
      "57  rosenbrock_10d       PRS 1.241664e+04\n",
      "58  rosenbrock_10d       PRS 4.776215e+03\n",
      "59  rosenbrock_10d       PRS 8.174511e+03\n",
      "60  rosenbrock_10d       PRS 2.916305e+04\n",
      "61  rosenbrock_10d       PRS 3.358655e+04\n",
      "62  rosenbrock_10d       PRS 3.719317e+04\n",
      "63  rosenbrock_10d       PRS 5.857407e+04\n",
      "64  rosenbrock_10d       PRS 4.163898e+04\n",
      "65  rosenbrock_10d       PRS 3.202078e+04\n",
      "66  rosenbrock_10d       PRS 4.582371e+04\n",
      "67  rosenbrock_10d       PRS 1.778741e+04\n",
      "68  rosenbrock_10d       PRS 6.233854e+03\n",
      "69  rosenbrock_10d       PRS 1.928490e+04\n",
      "70  rosenbrock_10d       PRS 4.198526e+04\n",
      "71  rosenbrock_10d       PRS 4.590666e+04\n",
      "72  rosenbrock_10d       PRS 3.829557e+04\n",
      "73  rosenbrock_10d       PRS 9.243742e+03\n",
      "74  rosenbrock_10d       PRS 1.142434e+04\n",
      "75  rosenbrock_10d       PRS 3.696797e+04\n",
      "76  rosenbrock_10d       PRS 4.168811e+04\n",
      "77  rosenbrock_10d       PRS 4.004861e+04\n",
      "78  rosenbrock_10d       PRS 2.368126e+04\n",
      "79  rosenbrock_10d       PRS 1.815292e+04\n",
      "80  rosenbrock_10d       PRS 2.438678e+04\n",
      "81  rosenbrock_10d       PRS 2.804523e+04\n",
      "82  rosenbrock_10d       PRS 3.432931e+04\n",
      "83  rosenbrock_10d       PRS 2.466009e+04\n",
      "84  rosenbrock_10d       PRS 1.836857e+04\n",
      "85  rosenbrock_10d       PRS 3.837144e+04\n",
      "86  rosenbrock_10d       PRS 3.973904e+04\n",
      "87  rosenbrock_10d       PRS 1.358366e+04\n",
      "88  rosenbrock_10d       PRS 1.239518e+04\n",
      "89  rosenbrock_10d       PRS 2.681614e+04\n",
      "90  rosenbrock_10d       PRS 4.533117e+04\n",
      "91  rosenbrock_10d       PRS 1.096858e+04\n",
      "92  rosenbrock_10d       PRS 1.705076e+04\n",
      "93  rosenbrock_10d       PRS 5.579962e+04\n",
      "94  rosenbrock_10d       PRS 4.280304e+04\n",
      "95  rosenbrock_10d       PRS 2.684486e+04\n",
      "96  rosenbrock_10d       PRS 5.541020e+04\n",
      "97  rosenbrock_10d       PRS 1.965212e+04\n",
      "98  rosenbrock_10d       PRS 2.878285e+04\n",
      "99  rosenbrock_10d       PRS 4.100461e+04\n",
      "100 rosenbrock_10d       PRS 9.059506e+03\n",
      "101 rosenbrock_20d       PRS 2.286264e+05\n",
      "102 rosenbrock_20d       PRS 3.133875e+05\n",
      "103 rosenbrock_20d       PRS 3.670548e+05\n",
      "104 rosenbrock_20d       PRS 3.403128e+05\n",
      "105 rosenbrock_20d       PRS 1.662798e+05\n",
      "106 rosenbrock_20d       PRS 2.891307e+05\n",
      "107 rosenbrock_20d       PRS 1.536978e+05\n",
      "108 rosenbrock_20d       PRS 2.517838e+05\n",
      "109 rosenbrock_20d       PRS 1.358809e+05\n",
      "110 rosenbrock_20d       PRS 4.287190e+05\n",
      "111 rosenbrock_20d       PRS 2.735665e+05\n",
      "112 rosenbrock_20d       PRS 3.437266e+05\n",
      "113 rosenbrock_20d       PRS 2.977852e+05\n",
      "114 rosenbrock_20d       PRS 4.129779e+05\n",
      "115 rosenbrock_20d       PRS 2.032880e+05\n",
      "116 rosenbrock_20d       PRS 1.993808e+05\n",
      "117 rosenbrock_20d       PRS 3.495397e+05\n",
      "118 rosenbrock_20d       PRS 1.922938e+05\n",
      "119 rosenbrock_20d       PRS 2.786558e+05\n",
      "120 rosenbrock_20d       PRS 5.004418e+05\n",
      "121 rosenbrock_20d       PRS 2.955866e+05\n",
      "122 rosenbrock_20d       PRS 2.509430e+05\n",
      "123 rosenbrock_20d       PRS 2.798817e+05\n",
      "124 rosenbrock_20d       PRS 3.732771e+05\n",
      "125 rosenbrock_20d       PRS 2.200585e+05\n",
      "126 rosenbrock_20d       PRS 2.958900e+05\n",
      "127 rosenbrock_20d       PRS 3.968927e+05\n",
      "128 rosenbrock_20d       PRS 4.466555e+05\n",
      "129 rosenbrock_20d       PRS 2.868663e+05\n",
      "130 rosenbrock_20d       PRS 2.507749e+05\n",
      "131 rosenbrock_20d       PRS 2.871172e+05\n",
      "132 rosenbrock_20d       PRS 2.249062e+05\n",
      "133 rosenbrock_20d       PRS 2.550004e+05\n",
      "134 rosenbrock_20d       PRS 2.871795e+05\n",
      "135 rosenbrock_20d       PRS 2.709297e+05\n",
      "136 rosenbrock_20d       PRS 3.170904e+05\n",
      "137 rosenbrock_20d       PRS 1.393315e+05\n",
      "138 rosenbrock_20d       PRS 3.933795e+05\n",
      "139 rosenbrock_20d       PRS 4.619344e+05\n",
      "140 rosenbrock_20d       PRS 2.413187e+05\n",
      "141 rosenbrock_20d       PRS 3.307702e+05\n",
      "142 rosenbrock_20d       PRS 2.395900e+05\n",
      "143 rosenbrock_20d       PRS 3.863967e+05\n",
      "144 rosenbrock_20d       PRS 3.203905e+05\n",
      "145 rosenbrock_20d       PRS 4.980841e+05\n",
      "146 rosenbrock_20d       PRS 2.719177e+05\n",
      "147 rosenbrock_20d       PRS 3.354646e+05\n",
      "148 rosenbrock_20d       PRS 2.952421e+05\n",
      "149 rosenbrock_20d       PRS 3.729786e+05\n",
      "150 rosenbrock_20d       PRS 2.819872e+05\n",
      "151   rastrigin_2d       PRS 1.751464e+00\n",
      "152   rastrigin_2d       PRS 1.806198e+00\n",
      "153   rastrigin_2d       PRS 2.041994e+00\n",
      "154   rastrigin_2d       PRS 3.785237e+00\n",
      "155   rastrigin_2d       PRS 1.300720e+00\n",
      "156   rastrigin_2d       PRS 1.937130e+00\n",
      "157   rastrigin_2d       PRS 1.333412e+00\n",
      "158   rastrigin_2d       PRS 1.257752e+00\n",
      "159   rastrigin_2d       PRS 3.599610e+00\n",
      "160   rastrigin_2d       PRS 1.017177e+00\n",
      "161   rastrigin_2d       PRS 3.514523e+00\n",
      "162   rastrigin_2d       PRS 1.208550e+00\n",
      "163   rastrigin_2d       PRS 1.990346e+00\n",
      "164   rastrigin_2d       PRS 2.640054e+00\n",
      "165   rastrigin_2d       PRS 2.528281e+00\n",
      "166   rastrigin_2d       PRS 1.981942e+00\n",
      "167   rastrigin_2d       PRS 2.116057e+00\n",
      "168   rastrigin_2d       PRS 2.538236e+00\n",
      "169   rastrigin_2d       PRS 1.649586e+00\n",
      "170   rastrigin_2d       PRS 1.721774e+00\n",
      "171   rastrigin_2d       PRS 1.633387e+00\n",
      "172   rastrigin_2d       PRS 2.764432e+00\n",
      "173   rastrigin_2d       PRS 2.411344e+00\n",
      "174   rastrigin_2d       PRS 1.675284e+00\n",
      "175   rastrigin_2d       PRS 1.104065e+00\n",
      "176   rastrigin_2d       PRS 1.581207e+00\n",
      "177   rastrigin_2d       PRS 3.820685e+00\n",
      "178   rastrigin_2d       PRS 1.745972e+00\n",
      "179   rastrigin_2d       PRS 1.520992e+00\n",
      "180   rastrigin_2d       PRS 1.049103e+00\n",
      "181   rastrigin_2d       PRS 3.896355e+00\n",
      "182   rastrigin_2d       PRS 2.508858e+00\n",
      "183   rastrigin_2d       PRS 2.178803e+00\n",
      "184   rastrigin_2d       PRS 1.225066e+00\n",
      "185   rastrigin_2d       PRS 1.264880e+00\n",
      "186   rastrigin_2d       PRS 2.245183e+00\n",
      "187   rastrigin_2d       PRS 9.132969e-01\n",
      "188   rastrigin_2d       PRS 1.953795e+00\n",
      "189   rastrigin_2d       PRS 3.607338e-01\n",
      "190   rastrigin_2d       PRS 1.252258e+00\n",
      "191   rastrigin_2d       PRS 1.104836e+00\n",
      "192   rastrigin_2d       PRS 4.428645e+00\n",
      "193   rastrigin_2d       PRS 2.195815e+00\n",
      "194   rastrigin_2d       PRS 2.443219e+00\n",
      "195   rastrigin_2d       PRS 2.075857e+00\n",
      "196   rastrigin_2d       PRS 2.900198e+00\n",
      "197   rastrigin_2d       PRS 1.053281e+00\n",
      "198   rastrigin_2d       PRS 1.871796e+00\n",
      "199   rastrigin_2d       PRS 1.863764e-01\n",
      "200   rastrigin_2d       PRS 2.566422e+00\n",
      "201  rastrigin_10d       PRS 9.402891e+01\n",
      "202  rastrigin_10d       PRS 8.083211e+01\n",
      "203  rastrigin_10d       PRS 6.812432e+01\n",
      "204  rastrigin_10d       PRS 5.992442e+01\n",
      "205  rastrigin_10d       PRS 8.896088e+01\n",
      "206  rastrigin_10d       PRS 8.677384e+01\n",
      "207  rastrigin_10d       PRS 8.611172e+01\n",
      "208  rastrigin_10d       PRS 7.932808e+01\n",
      "209  rastrigin_10d       PRS 8.676837e+01\n",
      "210  rastrigin_10d       PRS 9.700091e+01\n",
      "211  rastrigin_10d       PRS 8.218452e+01\n",
      "212  rastrigin_10d       PRS 8.089430e+01\n",
      "213  rastrigin_10d       PRS 9.538943e+01\n",
      "214  rastrigin_10d       PRS 7.535431e+01\n",
      "215  rastrigin_10d       PRS 8.093615e+01\n",
      "216  rastrigin_10d       PRS 8.749691e+01\n",
      "217  rastrigin_10d       PRS 8.642008e+01\n",
      "218  rastrigin_10d       PRS 9.069837e+01\n",
      "219  rastrigin_10d       PRS 8.348530e+01\n",
      "220  rastrigin_10d       PRS 1.000459e+02\n",
      "221  rastrigin_10d       PRS 6.992936e+01\n",
      "222  rastrigin_10d       PRS 1.021183e+02\n",
      "223  rastrigin_10d       PRS 7.778191e+01\n",
      "224  rastrigin_10d       PRS 8.878057e+01\n",
      "225  rastrigin_10d       PRS 8.958794e+01\n",
      "226  rastrigin_10d       PRS 8.410090e+01\n",
      "227  rastrigin_10d       PRS 7.780524e+01\n",
      "228  rastrigin_10d       PRS 1.108058e+02\n",
      "229  rastrigin_10d       PRS 7.972240e+01\n",
      "230  rastrigin_10d       PRS 9.267049e+01\n",
      "231  rastrigin_10d       PRS 9.150001e+01\n",
      "232  rastrigin_10d       PRS 8.908298e+01\n",
      "233  rastrigin_10d       PRS 7.514383e+01\n",
      "234  rastrigin_10d       PRS 8.460484e+01\n",
      "235  rastrigin_10d       PRS 8.042134e+01\n",
      "236  rastrigin_10d       PRS 8.195745e+01\n",
      "237  rastrigin_10d       PRS 9.342665e+01\n",
      "238  rastrigin_10d       PRS 9.668960e+01\n",
      "239  rastrigin_10d       PRS 7.526827e+01\n",
      "240  rastrigin_10d       PRS 9.369992e+01\n",
      "241  rastrigin_10d       PRS 9.299029e+01\n",
      "242  rastrigin_10d       PRS 6.968848e+01\n",
      "243  rastrigin_10d       PRS 8.485204e+01\n",
      "244  rastrigin_10d       PRS 9.190413e+01\n",
      "245  rastrigin_10d       PRS 1.051311e+02\n",
      "246  rastrigin_10d       PRS 7.952545e+01\n",
      "247  rastrigin_10d       PRS 9.323475e+01\n",
      "248  rastrigin_10d       PRS 8.855078e+01\n",
      "249  rastrigin_10d       PRS 7.325544e+01\n",
      "250  rastrigin_10d       PRS 8.474328e+01\n",
      "251  rastrigin_20d       PRS 2.433938e+02\n",
      "252  rastrigin_20d       PRS 2.454540e+02\n",
      "253  rastrigin_20d       PRS 2.391442e+02\n",
      "254  rastrigin_20d       PRS 2.435282e+02\n",
      "255  rastrigin_20d       PRS 2.345414e+02\n",
      "256  rastrigin_20d       PRS 2.218547e+02\n",
      "257  rastrigin_20d       PRS 2.268881e+02\n",
      "258  rastrigin_20d       PRS 2.215097e+02\n",
      "259  rastrigin_20d       PRS 2.310402e+02\n",
      "260  rastrigin_20d       PRS 2.409157e+02\n",
      "261  rastrigin_20d       PRS 2.244704e+02\n",
      "262  rastrigin_20d       PRS 2.295368e+02\n",
      "263  rastrigin_20d       PRS 2.195326e+02\n",
      "264  rastrigin_20d       PRS 2.422890e+02\n",
      "265  rastrigin_20d       PRS 2.316964e+02\n",
      "266  rastrigin_20d       PRS 2.515035e+02\n",
      "267  rastrigin_20d       PRS 2.412211e+02\n",
      "268  rastrigin_20d       PRS 2.504761e+02\n",
      "269  rastrigin_20d       PRS 2.417717e+02\n",
      "270  rastrigin_20d       PRS 2.426840e+02\n",
      "271  rastrigin_20d       PRS 2.458777e+02\n",
      "272  rastrigin_20d       PRS 2.155039e+02\n",
      "273  rastrigin_20d       PRS 2.373674e+02\n",
      "274  rastrigin_20d       PRS 2.075200e+02\n",
      "275  rastrigin_20d       PRS 2.217772e+02\n",
      "276  rastrigin_20d       PRS 2.228126e+02\n",
      "277  rastrigin_20d       PRS 2.156103e+02\n",
      "278  rastrigin_20d       PRS 2.397793e+02\n",
      "279  rastrigin_20d       PRS 2.309135e+02\n",
      "280  rastrigin_20d       PRS 2.105999e+02\n",
      "281  rastrigin_20d       PRS 2.476395e+02\n",
      "282  rastrigin_20d       PRS 2.234377e+02\n",
      "283  rastrigin_20d       PRS 2.587222e+02\n",
      "284  rastrigin_20d       PRS 2.087793e+02\n",
      "285  rastrigin_20d       PRS 2.081188e+02\n",
      "286  rastrigin_20d       PRS 2.005048e+02\n",
      "287  rastrigin_20d       PRS 2.428850e+02\n",
      "288  rastrigin_20d       PRS 2.352335e+02\n",
      "289  rastrigin_20d       PRS 2.312289e+02\n",
      "290  rastrigin_20d       PRS 2.197483e+02\n",
      "291  rastrigin_20d       PRS 2.323844e+02\n",
      "292  rastrigin_20d       PRS 2.191038e+02\n",
      "293  rastrigin_20d       PRS 2.489324e+02\n",
      "294  rastrigin_20d       PRS 2.371225e+02\n",
      "295  rastrigin_20d       PRS 2.339159e+02\n",
      "296  rastrigin_20d       PRS 1.954508e+02\n",
      "297  rastrigin_20d       PRS 2.150077e+02\n",
      "298  rastrigin_20d       PRS 2.447055e+02\n",
      "299  rastrigin_20d       PRS 2.313396e+02\n",
      "300  rastrigin_20d       PRS 2.396221e+02\n",
      "301  rosenbrock_2d        GA 2.793962e-03\n",
      "302  rosenbrock_2d        GA 1.079144e-03\n",
      "303  rosenbrock_2d        GA 7.996950e-03\n",
      "304  rosenbrock_2d        GA 1.245382e-01\n",
      "305  rosenbrock_2d        GA 2.735994e-03\n",
      "306  rosenbrock_2d        GA 4.379256e-02\n",
      "307  rosenbrock_2d        GA 5.865526e-02\n",
      "308  rosenbrock_2d        GA 3.520659e-04\n",
      "309  rosenbrock_2d        GA 9.555335e-03\n",
      "310  rosenbrock_2d        GA 1.857568e-02\n",
      "311  rosenbrock_2d        GA 2.268415e-02\n",
      "312  rosenbrock_2d        GA 3.567571e-03\n",
      "313  rosenbrock_2d        GA 2.837369e-03\n",
      "314  rosenbrock_2d        GA 6.955924e-04\n",
      "315  rosenbrock_2d        GA 1.593701e-04\n",
      "316  rosenbrock_2d        GA 3.255381e-03\n",
      "317  rosenbrock_2d        GA 1.271820e-03\n",
      "318  rosenbrock_2d        GA 3.748425e-03\n",
      "319  rosenbrock_2d        GA 9.102225e-02\n",
      "320  rosenbrock_2d        GA 1.895308e-03\n",
      "321  rosenbrock_2d        GA 4.840274e-03\n",
      "322  rosenbrock_2d        GA 2.143641e-03\n",
      "323  rosenbrock_2d        GA 1.633161e-03\n",
      "324  rosenbrock_2d        GA 1.240435e-03\n",
      "325  rosenbrock_2d        GA 1.000186e-03\n",
      "326  rosenbrock_2d        GA 2.746123e-03\n",
      "327  rosenbrock_2d        GA 4.386704e-02\n",
      "328  rosenbrock_2d        GA 9.577720e-02\n",
      "329  rosenbrock_2d        GA 1.259207e-02\n",
      "330  rosenbrock_2d        GA 3.254280e-02\n",
      "331  rosenbrock_2d        GA 2.694575e-02\n",
      "332  rosenbrock_2d        GA 2.736868e-02\n",
      "333  rosenbrock_2d        GA 2.435474e-02\n",
      "334  rosenbrock_2d        GA 4.760370e-03\n",
      "335  rosenbrock_2d        GA 4.311244e-03\n",
      "336  rosenbrock_2d        GA 5.285032e-02\n",
      "337  rosenbrock_2d        GA 1.261993e-02\n",
      "338  rosenbrock_2d        GA 2.026375e-04\n",
      "339  rosenbrock_2d        GA 9.746270e-02\n",
      "340  rosenbrock_2d        GA 6.864763e-03\n",
      "341  rosenbrock_2d        GA 2.638253e-03\n",
      "342  rosenbrock_2d        GA 1.510007e-02\n",
      "343  rosenbrock_2d        GA 1.277481e-01\n",
      "344  rosenbrock_2d        GA 6.041679e-04\n",
      "345  rosenbrock_2d        GA 1.464378e-02\n",
      "346  rosenbrock_2d        GA 1.430087e-03\n",
      "347  rosenbrock_2d        GA 8.397668e-04\n",
      "348  rosenbrock_2d        GA 8.836716e-03\n",
      "349  rosenbrock_2d        GA 8.801629e-03\n",
      "350  rosenbrock_2d        GA 1.073132e-01\n",
      "351 rosenbrock_10d        GA 1.202423e+02\n",
      "352 rosenbrock_10d        GA 9.533264e+01\n",
      "353 rosenbrock_10d        GA 7.017513e+01\n",
      "354 rosenbrock_10d        GA 8.240736e+01\n",
      "355 rosenbrock_10d        GA 5.960367e+00\n",
      "356 rosenbrock_10d        GA 1.017324e+01\n",
      "357 rosenbrock_10d        GA 6.681306e+01\n",
      "358 rosenbrock_10d        GA 4.299651e+01\n",
      "359 rosenbrock_10d        GA 1.833205e+02\n",
      "360 rosenbrock_10d        GA 5.724497e+01\n",
      "361 rosenbrock_10d        GA 8.738247e+01\n",
      "362 rosenbrock_10d        GA 1.037409e+01\n",
      "363 rosenbrock_10d        GA 1.000259e+02\n",
      "364 rosenbrock_10d        GA 7.059526e+01\n",
      "365 rosenbrock_10d        GA 6.813469e+01\n",
      "366 rosenbrock_10d        GA 3.641288e+01\n",
      "367 rosenbrock_10d        GA 3.232106e+02\n",
      "368 rosenbrock_10d        GA 3.859164e+01\n",
      "369 rosenbrock_10d        GA 1.820784e+01\n",
      "370 rosenbrock_10d        GA 2.684536e+01\n",
      "371 rosenbrock_10d        GA 2.039064e+01\n",
      "372 rosenbrock_10d        GA 4.782741e+01\n",
      "373 rosenbrock_10d        GA 5.489052e+01\n",
      "374 rosenbrock_10d        GA 8.181457e+02\n",
      "375 rosenbrock_10d        GA 2.022166e+02\n",
      "376 rosenbrock_10d        GA 1.641898e+01\n",
      "377 rosenbrock_10d        GA 3.837646e+01\n",
      "378 rosenbrock_10d        GA 5.699725e+02\n",
      "379 rosenbrock_10d        GA 8.988652e+01\n",
      "380 rosenbrock_10d        GA 4.204215e+02\n",
      "381 rosenbrock_10d        GA 2.522311e+01\n",
      "382 rosenbrock_10d        GA 2.055654e+01\n",
      "383 rosenbrock_10d        GA 6.136552e+01\n",
      "384 rosenbrock_10d        GA 1.791247e+01\n",
      "385 rosenbrock_10d        GA 1.291296e+01\n",
      "386 rosenbrock_10d        GA 1.204687e+02\n",
      "387 rosenbrock_10d        GA 2.830171e+01\n",
      "388 rosenbrock_10d        GA 1.597141e+01\n",
      "389 rosenbrock_10d        GA 1.445077e+02\n",
      "390 rosenbrock_10d        GA 2.007563e+02\n",
      "391 rosenbrock_10d        GA 3.327463e+01\n",
      "392 rosenbrock_10d        GA 1.061867e+02\n",
      "393 rosenbrock_10d        GA 1.102309e+02\n",
      "394 rosenbrock_10d        GA 1.320697e+02\n",
      "395 rosenbrock_10d        GA 1.137875e+02\n",
      "396 rosenbrock_10d        GA 6.868834e+01\n",
      "397 rosenbrock_10d        GA 4.751396e+01\n",
      "398 rosenbrock_10d        GA 8.677403e+01\n",
      "399 rosenbrock_10d        GA 5.881062e+01\n",
      "400 rosenbrock_10d        GA 3.801777e+01\n",
      "401 rosenbrock_20d        GA 2.097066e+02\n",
      "402 rosenbrock_20d        GA 1.823334e+03\n",
      "403 rosenbrock_20d        GA 3.700241e+02\n",
      "404 rosenbrock_20d        GA 2.402707e+02\n",
      "405 rosenbrock_20d        GA 2.191911e+02\n",
      "406 rosenbrock_20d        GA 2.376820e+02\n",
      "407 rosenbrock_20d        GA 6.000292e+02\n",
      "408 rosenbrock_20d        GA 2.610204e+02\n",
      "409 rosenbrock_20d        GA 5.409567e+02\n",
      "410 rosenbrock_20d        GA 2.429677e+02\n",
      "411 rosenbrock_20d        GA 2.109830e+02\n",
      "412 rosenbrock_20d        GA 6.187909e+02\n",
      "413 rosenbrock_20d        GA 7.795487e+01\n",
      "414 rosenbrock_20d        GA 1.302895e+02\n",
      "415 rosenbrock_20d        GA 9.360836e+02\n",
      "416 rosenbrock_20d        GA 5.292235e+02\n",
      "417 rosenbrock_20d        GA 3.221944e+02\n",
      "418 rosenbrock_20d        GA 6.732982e+02\n",
      "419 rosenbrock_20d        GA 4.981320e+02\n",
      "420 rosenbrock_20d        GA 9.164004e+02\n",
      "421 rosenbrock_20d        GA 1.006151e+03\n",
      "422 rosenbrock_20d        GA 2.545623e+02\n",
      "423 rosenbrock_20d        GA 1.290088e+02\n",
      "424 rosenbrock_20d        GA 1.107226e+03\n",
      "425 rosenbrock_20d        GA 2.320955e+02\n",
      "426 rosenbrock_20d        GA 2.198766e+02\n",
      "427 rosenbrock_20d        GA 3.715479e+02\n",
      "428 rosenbrock_20d        GA 1.997202e+02\n",
      "429 rosenbrock_20d        GA 3.467848e+02\n",
      "430 rosenbrock_20d        GA 1.856880e+02\n",
      "431 rosenbrock_20d        GA 4.386371e+02\n",
      "432 rosenbrock_20d        GA 3.064409e+02\n",
      "433 rosenbrock_20d        GA 8.477159e+01\n",
      "434 rosenbrock_20d        GA 3.852227e+02\n",
      "435 rosenbrock_20d        GA 1.084003e+02\n",
      "436 rosenbrock_20d        GA 8.717817e+02\n",
      "437 rosenbrock_20d        GA 1.821038e+02\n",
      "438 rosenbrock_20d        GA 1.481978e+02\n",
      "439 rosenbrock_20d        GA 2.347967e+02\n",
      "440 rosenbrock_20d        GA 4.082882e+02\n",
      "441 rosenbrock_20d        GA 3.551490e+02\n",
      "442 rosenbrock_20d        GA 6.984224e+02\n",
      "443 rosenbrock_20d        GA 1.414045e+02\n",
      "444 rosenbrock_20d        GA 1.854485e+02\n",
      "445 rosenbrock_20d        GA 1.279765e+03\n",
      "446 rosenbrock_20d        GA 1.940304e+03\n",
      "447 rosenbrock_20d        GA 1.556735e+02\n",
      "448 rosenbrock_20d        GA 8.840713e+02\n",
      "449 rosenbrock_20d        GA 1.118198e+02\n",
      "450 rosenbrock_20d        GA 6.474204e+01\n",
      "451   rastrigin_2d        GA 5.974551e-04\n",
      "452   rastrigin_2d        GA 3.442292e-05\n",
      "453   rastrigin_2d        GA 1.508165e-03\n",
      "454   rastrigin_2d        GA 5.033409e-05\n",
      "455   rastrigin_2d        GA 8.517542e-05\n",
      "456   rastrigin_2d        GA 1.621132e-04\n",
      "457   rastrigin_2d        GA 1.654591e-02\n",
      "458   rastrigin_2d        GA 3.367771e-05\n",
      "459   rastrigin_2d        GA 3.587643e-04\n",
      "460   rastrigin_2d        GA 2.012265e-05\n",
      "461   rastrigin_2d        GA 1.140648e-05\n",
      "462   rastrigin_2d        GA 1.935890e-05\n",
      "463   rastrigin_2d        GA 2.058354e-05\n",
      "464   rastrigin_2d        GA 9.199187e-05\n",
      "465   rastrigin_2d        GA 5.636101e-05\n",
      "466   rastrigin_2d        GA 3.444475e-05\n",
      "467   rastrigin_2d        GA 4.486393e-05\n",
      "468   rastrigin_2d        GA 6.045463e-07\n",
      "469   rastrigin_2d        GA 1.443196e-01\n",
      "470   rastrigin_2d        GA 1.816090e-07\n",
      "471   rastrigin_2d        GA 6.876381e-06\n",
      "472   rastrigin_2d        GA 4.098560e-04\n",
      "473   rastrigin_2d        GA 2.560846e-04\n",
      "474   rastrigin_2d        GA 4.545007e-05\n",
      "475   rastrigin_2d        GA 1.945678e-04\n",
      "476   rastrigin_2d        GA 3.038438e-03\n",
      "477   rastrigin_2d        GA 1.243139e-03\n",
      "478   rastrigin_2d        GA 8.351563e-05\n",
      "479   rastrigin_2d        GA 1.340328e-03\n",
      "480   rastrigin_2d        GA 3.628062e-03\n",
      "481   rastrigin_2d        GA 8.951300e-05\n",
      "482   rastrigin_2d        GA 3.138725e-02\n",
      "483   rastrigin_2d        GA 1.686055e-05\n",
      "484   rastrigin_2d        GA 1.083099e-07\n",
      "485   rastrigin_2d        GA 5.133773e-04\n",
      "486   rastrigin_2d        GA 3.172339e-05\n",
      "487   rastrigin_2d        GA 3.528593e-06\n",
      "488   rastrigin_2d        GA 6.026127e-06\n",
      "489   rastrigin_2d        GA 3.471309e-03\n",
      "490   rastrigin_2d        GA 6.197798e-04\n",
      "491   rastrigin_2d        GA 3.197391e-06\n",
      "492   rastrigin_2d        GA 4.669225e-05\n",
      "493   rastrigin_2d        GA 3.425130e-02\n",
      "494   rastrigin_2d        GA 6.087704e-05\n",
      "495   rastrigin_2d        GA 5.523021e-03\n",
      "496   rastrigin_2d        GA 8.135411e-04\n",
      "497   rastrigin_2d        GA 6.424308e-08\n",
      "498   rastrigin_2d        GA 1.250675e-02\n",
      "499   rastrigin_2d        GA 1.665054e-03\n",
      "500   rastrigin_2d        GA 4.547406e-05\n",
      "501  rastrigin_10d        GA 3.718328e-02\n",
      "502  rastrigin_10d        GA 5.614240e+00\n",
      "503  rastrigin_10d        GA 3.315740e+00\n",
      "504  rastrigin_10d        GA 9.276303e+00\n",
      "505  rastrigin_10d        GA 8.039062e+00\n",
      "506  rastrigin_10d        GA 3.663652e+00\n",
      "507  rastrigin_10d        GA 5.282201e+00\n",
      "508  rastrigin_10d        GA 3.135374e+00\n",
      "509  rastrigin_10d        GA 2.918977e+00\n",
      "510  rastrigin_10d        GA 3.136712e+00\n",
      "511  rastrigin_10d        GA 8.795133e+00\n",
      "512  rastrigin_10d        GA 2.048352e+00\n",
      "513  rastrigin_10d        GA 1.959795e+01\n",
      "514  rastrigin_10d        GA 1.811200e+01\n",
      "515  rastrigin_10d        GA 3.069794e+00\n",
      "516  rastrigin_10d        GA 1.086873e-01\n",
      "517  rastrigin_10d        GA 3.958224e-01\n",
      "518  rastrigin_10d        GA 3.499821e+00\n",
      "519  rastrigin_10d        GA 1.702996e+00\n",
      "520  rastrigin_10d        GA 3.298202e+00\n",
      "521  rastrigin_10d        GA 1.327116e+00\n",
      "522  rastrigin_10d        GA 1.136483e+01\n",
      "523  rastrigin_10d        GA 3.778254e+00\n",
      "524  rastrigin_10d        GA 5.130779e+00\n",
      "525  rastrigin_10d        GA 1.960169e+00\n",
      "526  rastrigin_10d        GA 1.133255e+01\n",
      "527  rastrigin_10d        GA 6.045395e+00\n",
      "528  rastrigin_10d        GA 1.297917e-01\n",
      "529  rastrigin_10d        GA 4.892776e+00\n",
      "530  rastrigin_10d        GA 2.634266e+00\n",
      "531  rastrigin_10d        GA 4.207707e+00\n",
      "532  rastrigin_10d        GA 2.543864e+00\n",
      "533  rastrigin_10d        GA 3.652390e-01\n",
      "534  rastrigin_10d        GA 6.488926e+00\n",
      "535  rastrigin_10d        GA 7.654416e+00\n",
      "536  rastrigin_10d        GA 2.934790e+00\n",
      "537  rastrigin_10d        GA 5.618603e+00\n",
      "538  rastrigin_10d        GA 9.767095e-01\n",
      "539  rastrigin_10d        GA 1.118768e+01\n",
      "540  rastrigin_10d        GA 2.512479e+01\n",
      "541  rastrigin_10d        GA 3.630721e-02\n",
      "542  rastrigin_10d        GA 1.060606e+00\n",
      "543  rastrigin_10d        GA 7.551649e+00\n",
      "544  rastrigin_10d        GA 2.777941e+00\n",
      "545  rastrigin_10d        GA 1.485574e+00\n",
      "546  rastrigin_10d        GA 9.216710e+00\n",
      "547  rastrigin_10d        GA 4.476959e+00\n",
      "548  rastrigin_10d        GA 1.215771e+00\n",
      "549  rastrigin_10d        GA 2.138246e-01\n",
      "550  rastrigin_10d        GA 1.985229e+00\n",
      "551  rastrigin_20d        GA 1.124809e+01\n",
      "552  rastrigin_20d        GA 2.259061e+01\n",
      "553  rastrigin_20d        GA 1.438857e+01\n",
      "554  rastrigin_20d        GA 1.957293e+01\n",
      "555  rastrigin_20d        GA 2.268389e+01\n",
      "556  rastrigin_20d        GA 2.022118e+01\n",
      "557  rastrigin_20d        GA 1.880124e+01\n",
      "558  rastrigin_20d        GA 1.789191e+01\n",
      "559  rastrigin_20d        GA 3.692845e+01\n",
      "560  rastrigin_20d        GA 1.163413e+01\n",
      "561  rastrigin_20d        GA 1.096714e+01\n",
      "562  rastrigin_20d        GA 1.205839e+02\n",
      "563  rastrigin_20d        GA 8.201126e+00\n",
      "564  rastrigin_20d        GA 1.121925e+01\n",
      "565  rastrigin_20d        GA 9.206828e+00\n",
      "566  rastrigin_20d        GA 1.050289e+01\n",
      "567  rastrigin_20d        GA 2.119144e+01\n",
      "568  rastrigin_20d        GA 1.137974e+01\n",
      "569  rastrigin_20d        GA 8.161918e+00\n",
      "570  rastrigin_20d        GA 1.427423e+01\n",
      "571  rastrigin_20d        GA 7.239526e+00\n",
      "572  rastrigin_20d        GA 1.424439e+01\n",
      "573  rastrigin_20d        GA 4.026925e+00\n",
      "574  rastrigin_20d        GA 1.959586e+01\n",
      "575  rastrigin_20d        GA 4.452514e+00\n",
      "576  rastrigin_20d        GA 1.963815e+01\n",
      "577  rastrigin_20d        GA 1.667994e+01\n",
      "578  rastrigin_20d        GA 1.685664e+01\n",
      "579  rastrigin_20d        GA 9.332704e+00\n",
      "580  rastrigin_20d        GA 6.051917e+00\n",
      "581  rastrigin_20d        GA 5.625507e+00\n",
      "582  rastrigin_20d        GA 1.628378e+01\n",
      "583  rastrigin_20d        GA 5.201433e+00\n",
      "584  rastrigin_20d        GA 1.416211e+01\n",
      "585  rastrigin_20d        GA 8.513344e+00\n",
      "586  rastrigin_20d        GA 1.961285e+00\n",
      "587  rastrigin_20d        GA 2.170299e+01\n",
      "588  rastrigin_20d        GA 1.302861e+01\n",
      "589  rastrigin_20d        GA 6.092127e+01\n",
      "590  rastrigin_20d        GA 1.486953e+01\n",
      "591  rastrigin_20d        GA 2.371878e+00\n",
      "592  rastrigin_20d        GA 1.273231e+01\n",
      "593  rastrigin_20d        GA 8.919600e+00\n",
      "594  rastrigin_20d        GA 2.868627e+01\n",
      "595  rastrigin_20d        GA 2.689834e+00\n",
      "596  rastrigin_20d        GA 1.583204e+01\n",
      "597  rastrigin_20d        GA 1.704351e+01\n",
      "598  rastrigin_20d        GA 2.664882e+01\n",
      "599  rastrigin_20d        GA 8.500263e+00\n",
      "600  rastrigin_20d        GA 1.532884e+01\n"
     ]
    }
   ],
   "source": [
    "run_experiments <- function(fun, domain, algorithm, budget, starts = NO_STARTS) {\n",
    "  if (algorithm == \"MS\") {\n",
    "    replicate(50, ms_run(fun, domain, starts)$best)\n",
    "  } else if (algorithm == \"GA\") {\n",
    "    replicate(50, ga_run(fun, domain, budget))\n",
    "  } else if (algorithm == \"PRS\") {\n",
    "    replicate(50, prs_run(fun, domain, budget))\n",
    "  }\n",
    "}\n",
    "\n",
    "experiments <- list(\n",
    "  rosenbrock_2d = list(fun = rosenbrock_2d, domain = domains$rosenbrock_2d),\n",
    "  rosenbrock_10d = list(fun = rosenbrock_10d, domain = domains$rosenbrock_10d),\n",
    "  rosenbrock_20d = list(fun = rosenbrock_20d, domain = domains$rosenbrock_20d),\n",
    "  rastrigin_2d = list(fun = rastrigin_2d, domain = domains$rastrigin_2d),\n",
    "  rastrigin_10d = list(fun = rastrigin_10d, domain = domains$rastrigin_10d),\n",
    "  rastrigin_20d = list(fun = rastrigin_20d, domain = domains$rastrigin_20d)\n",
    ")\n",
    "\n",
    "ga_results <- lapply(seq_along(experiments), function(i) {\n",
    "  run_experiments(experiments[[i]]$fun, experiments[[i]]$domain, \"GA\", budget = 1000)\n",
    "})\n",
    "\n",
    "prs_results <- lapply(seq_along(experiments), function(i) {\n",
    "  run_experiments(experiments[[i]]$fun, experiments[[i]]$domain, \"PRS\", budget = 1000)\n",
    "})\n",
    "\n",
    "results <- data.frame(\n",
    "  Function = rep(names(experiments), each = 50),\n",
    "  Algorithm = rep(c(\"PRS\", \"GA\"), each = 50 * length(experiments)),\n",
    "  Value = c(unlist(prs_results), unlist(ga_results))\n",
    ")\n",
    "\n",
    "print(results)"
   ]
  },
  {
   "cell_type": "markdown",
   "metadata": {},
   "source": [
    "Zapis do CSV"
   ]
  },
  {
   "cell_type": "code",
   "execution_count": 7,
   "metadata": {
    "vscode": {
     "languageId": "r"
    }
   },
   "outputs": [],
   "source": [
    "# PRS\n",
    "for (i in seq_along(prs_results)) {\n",
    "    data <- unlist(prs_results[i])\n",
    "\n",
    "    file_name <- paste0(\"./data/\", names(experiments[i]),\"PRS\", \".csv\")\n",
    "    \n",
    "    write.csv(data, file = file_name, row.names = FALSE)\n",
    "}\n",
    "\n",
    "# GA\n",
    "for (i in seq_along(ga_results)) {\n",
    "    data <- unlist(ga_results[i])\n",
    "\n",
    "    file_name <- paste0(\"./data/\", names(experiments[i]),\"GA\", \".csv\")\n",
    "    \n",
    "    write.csv(data, file = file_name, row.names = FALSE)\n",
    "}\n",
    "# full res\n",
    "write.csv(results, file = \"./data/results\", row.names = FALSE)"
   ]
  },
  {
   "cell_type": "markdown",
   "metadata": {},
   "source": [
    "Wykresy"
   ]
  },
  {
   "cell_type": "code",
   "execution_count": 8,
   "metadata": {
    "vscode": {
     "languageId": "r"
    }
   },
   "outputs": [
    {
     "data": {
      "image/png": "[encoded data removed]",
      "text/plain": [
       "plot without title"
      ]
     },
     "metadata": {
      "image/png": {
       "height": 420,
       "width": 420
      }
     },
     "output_type": "display_data"
    }
   ],
   "source": [
    "ggplot(results, aes(x = Function, y = Value, fill = Algorithm)) +\n",
    "  geom_boxplot() +\n",
    "  facet_wrap(~Function, scales = \"free\") +\n",
    "  labs(title = \"Comparison of PRS and GA on Rosenbrock and Rastrigin Functions\",\n",
    "       y = \"Minimum Function Value\",\n",
    "       x = \"Function and Dimension\") +\n",
    "  theme_minimal()"
   ]
  },
  {
   "cell_type": "code",
   "execution_count": 9,
   "metadata": {
    "vscode": {
     "languageId": "r"
    }
   },
   "outputs": [
    {
     "data": {
      "image/png": "[encoded data removed]",
      "text/plain": [
       "plot without title"
      ]
     },
     "metadata": {
      "image/png": {
       "height": 420,
       "width": 420
      }
     },
     "output_type": "display_data"
    }
   ],
   "source": [
    "ggplot(results, aes(x = Function, y = Value, fill = Algorithm)) +\n",
    "  geom_violin() +\n",
    "  facet_wrap(~Algorithm + Function, scales = \"free\") +\n",
    "  labs(title = \"Comparison of PRS and GA on Rosenbrock and Rastrigin Functions\",\n",
    "       y = \"Minimum Function Value\",\n",
    "       x = \"Function and Dimension\") +\n",
    "  theme_minimal()"
   ]
  },
  {
   "cell_type": "code",
   "execution_count": 10,
   "metadata": {
    "vscode": {
     "languageId": "r"
    }
   },
   "outputs": [
    {
     "name": "stderr",
     "output_type": "stream",
     "text": [
      "Warning message:\n",
      "\"\u001b[1m\u001b[22mUsing `size` aesthetic for lines was deprecated in ggplot2 3.4.0.\n",
      "\u001b[36mℹ\u001b[39m Please use `linewidth` instead.\"\n"
     ]
    },
    {
     "data": {
      "image/png": "[encoded data removed]",
      "text/plain": [
       "plot without title"
      ]
     },
     "metadata": {
      "image/png": {
       "height": 420,
       "width": 420
      }
     },
     "output_type": "display_data"
    },
    {
     "data": {
      "image/png": "[encoded data removed]",
      "text/plain": [
       "plot without title"
      ]
     },
     "metadata": {
      "image/png": {
       "height": 420,
       "width": 420
      }
     },
     "output_type": "display_data"
    },
    {
     "data": {
      "image/png": "[encoded data removed]",
      "text/plain": [
       "plot without title"
      ]
     },
     "metadata": {
      "image/png": {
       "height": 420,
       "width": 420
      }
     },
     "output_type": "display_data"
    },
    {
     "data": {
      "image/png": "[encoded data removed]",
      "text/plain": [
       "plot without title"
      ]
     },
     "metadata": {
      "image/png": {
       "height": 420,
       "width": 420
      }
     },
     "output_type": "display_data"
    },
    {
     "data": {
      "image/png": "[encoded data removed]",
      "text/plain": [
       "plot without title"
      ]
     },
     "metadata": {
      "image/png": {
       "height": 420,
       "width": 420
      }
     },
     "output_type": "display_data"
    },
    {
     "data": {
      "image/png": "[encoded data removed]",
      "text/plain": [
       "plot without title"
      ]
     },
     "metadata": {
      "image/png": {
       "height": 420,
       "width": 420
      }
     },
     "output_type": "display_data"
    },
    {
     "data": {
      "image/png": "[encoded data removed]",
      "text/plain": [
       "plot without title"
      ]
     },
     "metadata": {
      "image/png": {
       "height": 420,
       "width": 420
      }
     },
     "output_type": "display_data"
    },
    {
     "data": {
      "image/png": "[encoded data removed]",
      "text/plain": [
       "plot without title"
      ]
     },
     "metadata": {
      "image/png": {
       "height": 420,
       "width": 420
      }
     },
     "output_type": "display_data"
    },
    {
     "data": {
      "image/png": "[encoded data removed]",
      "text/plain": [
       "plot without title"
      ]
     },
     "metadata": {
      "image/png": {
       "height": 420,
       "width": 420
      }
     },
     "output_type": "display_data"
    },
    {
     "data": {
      "image/png": "[encoded data removed]",
      "text/plain": [
       "plot without title"
      ]
     },
     "metadata": {
      "image/png": {
       "height": 420,
       "width": 420
      }
     },
     "output_type": "display_data"
    },
    {
     "data": {
      "image/png": "[encoded data removed]",
      "text/plain": [
       "plot without title"
      ]
     },
     "metadata": {
      "image/png": {
       "height": 420,
       "width": 420
      }
     },
     "output_type": "display_data"
    },
    {
     "data": {
      "image/png": "[encoded data removed]",
      "text/plain": [
       "plot without title"
      ]
     },
     "metadata": {
      "image/png": {
       "height": 420,
       "width": 420
      }
     },
     "output_type": "display_data"
    }
   ],
   "source": [
    "generate_plot <- function(data, function_name, algorithm_name) {\n",
    "  subset_data <- data %>%\n",
    "    filter(Function == function_name, Algorithm == algorithm_name)\n",
    "  \n",
    "  subset_data <- subset_data %>%\n",
    "    filter(!is.na(Value) & is.finite(Value))\n",
    "\n",
    "  median_value <- median(subset_data$Value, na.rm = TRUE)\n",
    "  iqr_value <- IQR(subset_data$Value, na.rm = TRUE)\n",
    "\n",
    "  upper_quantile <- quantile(subset_data$Value, 0.75, na.rm = TRUE)\n",
    "  lower_quantile <- quantile(subset_data$Value, 0.25, na.rm = TRUE)\n",
    "  \n",
    "  subset_data <- subset_data %>%\n",
    "    filter(Value >= (lower_quantile - 1.5 * iqr_value) & Value <= (upper_quantile + 1.5 * iqr_value))\n",
    "  \n",
    "  bin_width <- diff(range(subset_data$Value)) / 30\n",
    "  \n",
    "  ggplot(subset_data, aes(x = Value)) +\n",
    "    geom_histogram(binwidth = bin_width, fill = \"blue\", color = \"black\", alpha = 0.5) +\n",
    "    geom_vline(aes(xintercept = min(Value, na.rm = TRUE)), color = \"green\", size = 1) +\n",
    "    geom_vline(aes(xintercept = mean(Value, na.rm = TRUE)), color = \"red\", linetype = \"dashed\", size = 1) +\n",
    "    labs(\n",
    "      title = paste(function_name, algorithm_name),\n",
    "      x = \"Values\",\n",
    "      y = \"Count\"\n",
    "    ) +\n",
    "    theme_minimal()\n",
    "}\n",
    "\n",
    "for (function_name in c(\"rosenbrock_2d\", \"rosenbrock_10d\", \"rosenbrock_20d\", \"rastrigin_2d\", \"rastrigin_10d\", \"rastrigin_20d\")) {\n",
    "  for (algorithm_name in c(\"PRS\", \"GA\")) {\n",
    "    # print(paste(\"Generating plot for\", function_name, algorithm_name))\n",
    "    plot <- generate_plot(results, function_name, algorithm_name)\n",
    "    if (!is.null(plot)) print(plot)\n",
    "  }\n",
    "}\n"
   ]
  },
  {
   "cell_type": "code",
   "execution_count": 11,
   "metadata": {
    "vscode": {
     "languageId": "r"
    }
   },
   "outputs": [
    {
     "data": {
      "text/plain": [
       "[[1]]\n",
       "\n",
       "\tWelch Two Sample t-test\n",
       "\n",
       "data:  ms_values and ga_values\n",
       "t = 7.1702, df = 49.291, p-value = 3.505e-09\n",
       "alternative hypothesis: true difference in means is not equal to 0\n",
       "95 percent confidence interval:\n",
       " 0.4666912 0.8300797\n",
       "sample estimates:\n",
       " mean of x  mean of y \n",
       "0.67129131 0.02290584 \n",
       "\n",
       "\n",
       "[[2]]\n",
       "\n",
       "\tWelch Two Sample t-test\n",
       "\n",
       "data:  ms_values and ga_values\n",
       "t = 14.751, df = 49.011, p-value < 2.2e-16\n",
       "alternative hypothesis: true difference in means is not equal to 0\n",
       "95 percent confidence interval:\n",
       " 25174.05 33115.17\n",
       "sample estimates:\n",
       " mean of x  mean of y \n",
       "29249.3366   104.7265 \n",
       "\n",
       "\n",
       "[[3]]\n",
       "\n",
       "\tWelch Two Sample t-test\n",
       "\n",
       "data:  ms_values and ga_values\n",
       "t = 24.53, df = 49.002, p-value < 2.2e-16\n",
       "alternative hypothesis: true difference in means is not equal to 0\n",
       "95 percent confidence interval:\n",
       " 275637.3 324829.5\n",
       "sample estimates:\n",
       "  mean of x   mean of y \n",
       "300687.3003    453.9327 \n",
       "\n",
       "\n",
       "[[4]]\n",
       "\n",
       "\tWelch Two Sample t-test\n",
       "\n",
       "data:  ms_values and ga_values\n",
       "t = 15.42, df = 49.053, p-value < 2.2e-16\n",
       "alternative hypothesis: true difference in means is not equal to 0\n",
       "95 percent confidence interval:\n",
       " 1.728706 2.246770\n",
       "sample estimates:\n",
       "  mean of x   mean of y \n",
       "1.993043858 0.005305946 \n",
       "\n",
       "\n",
       "[[5]]\n",
       "\n",
       "\tWelch Two Sample t-test\n",
       "\n",
       "data:  ms_values and ga_values\n",
       "t = 51.724, df = 74.434, p-value < 2.2e-16\n",
       "alternative hypothesis: true difference in means is not equal to 0\n",
       "95 percent confidence interval:\n",
       " 77.66779 83.89080\n",
       "sample estimates:\n",
       "mean of x mean of y \n",
       "85.794648  5.015349 \n",
       "\n",
       "\n",
       "[[6]]\n",
       "\n",
       "\tWelch Two Sample t-test\n",
       "\n",
       "data:  ms_values and ga_values\n",
       "t = 66.293, df = 93.311, p-value < 2.2e-16\n",
       "alternative hypothesis: true difference in means is not equal to 0\n",
       "95 percent confidence interval:\n",
       " 207.6734 220.4988\n",
       "sample estimates:\n",
       "mean of x mean of y \n",
       "230.90192  16.81582 \n",
       "\n"
      ]
     },
     "metadata": {},
     "output_type": "display_data"
    }
   ],
   "source": [
    "statistical_analysis <- function(results) {\n",
    "  results %>%\n",
    "    group_by(Function, Algorithm) %>%\n",
    "    summarise(Mean = mean(Value), SD = sd(Value)) %>%\n",
    "    ungroup()\n",
    "}\n",
    "\n",
    "t_tests <- lapply(names(experiments), function(fun) {\n",
    "  ms_values <- results %>% filter(Function == fun & Algorithm == \"PRS\") %>% pull(Value)\n",
    "  ga_values <- results %>% filter(Function == fun & Algorithm == \"GA\") %>% pull(Value)\n",
    "  t.test(ms_values, ga_values)\n",
    "})\n",
    "\n",
    "t_tests"
   ]
  },
  {
   "cell_type": "code",
   "execution_count": null,
   "metadata": {
    "vscode": {
     "languageId": "r"
    }
   },
   "outputs": [],
   "source": []
  }
 ],
 "metadata": {
  "kernelspec": {
   "display_name": "R",
   "language": "R",
   "name": "ir"
  },
  "language_info": {
   "codemirror_mode": "r",
   "file_extension": ".r",
   "mimetype": "text/x-r-source",
   "name": "R",
   "pygments_lexer": "r",
   "version": "4.4.1"
  }
 },
 "nbformat": 4,
 "nbformat_minor": 2
}
