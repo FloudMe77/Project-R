{
 "cells": [
  {
   "cell_type": "code",
   "execution_count": 40,
   "metadata": {
    "vscode": {
     "languageId": "r"
    }
   },
   "outputs": [
    {
     "name": "stderr",
     "output_type": "stream",
     "text": [
      "Warning message:\n",
      "\"pakiet 'ecr' został zbudowany w wersji R 4.4.2\"\n",
      "Ładowanie wymaganego pakietu: BBmisc\n",
      "\n",
      "Warning message:\n",
      "\"pakiet 'BBmisc' został zbudowany w wersji R 4.4.2\"\n",
      "\n",
      "Dołączanie pakietu: 'BBmisc'\n",
      "\n",
      "\n",
      "Następujące obiekty zostały zakryte z 'package:dplyr':\n",
      "\n",
      "    coalesce, collapse, symdiff\n",
      "\n",
      "\n",
      "Następujący obiekt został zakryty z 'package:base':\n",
      "\n",
      "    isFALSE\n",
      "\n",
      "\n",
      "\n",
      "Dołączanie pakietu: 'ecr'\n",
      "\n",
      "\n",
      "Następujące obiekty zostały zakryte z 'package:BBmisc':\n",
      "\n",
      "    explode, normalize\n",
      "\n",
      "\n",
      "Następujący obiekt został zakryty z 'package:dplyr':\n",
      "\n",
      "    mutate\n",
      "\n",
      "\n",
      "Następujący obiekt został zakryty z 'package:utils':\n",
      "\n",
      "    toLatex\n",
      "\n",
      "\n"
     ]
    }
   ],
   "source": [
    "library(smoof)\n",
    "library(ggplot2)\n",
    "library(dplyr)\n",
    "library(GA)"
   ]
  },
  {
   "cell_type": "markdown",
   "metadata": {},
   "source": [
    "Deklaracja funkcji testowych"
   ]
  },
  {
   "cell_type": "code",
   "execution_count": 3,
   "metadata": {
    "vscode": {
     "languageId": "r"
    }
   },
   "outputs": [
    {
     "name": "stdout",
     "output_type": "stream",
     "text": [
      "$rosenbrock_2d\n",
      "$rosenbrock_2d$lower\n",
      "x1 x2 \n",
      "-5 -5 \n",
      "\n",
      "$rosenbrock_2d$upper\n",
      "x1 x2 \n",
      "10 10 \n",
      "\n",
      "\n",
      "$rosenbrock_10d\n",
      "$rosenbrock_10d$lower\n",
      " x1  x2  x3  x4  x5  x6  x7  x8  x9 x10 \n",
      " -5  -5  -5  -5  -5  -5  -5  -5  -5  -5 \n",
      "\n",
      "$rosenbrock_10d$upper\n",
      " x1  x2  x3  x4  x5  x6  x7  x8  x9 x10 \n",
      " 10  10  10  10  10  10  10  10  10  10 \n",
      "\n",
      "\n",
      "$rosenbrock_20d\n",
      "$rosenbrock_20d$lower\n",
      " x1  x2  x3  x4  x5  x6  x7  x8  x9 x10 x11 x12 x13 x14 x15 x16 x17 x18 x19 x20 \n",
      " -5  -5  -5  -5  -5  -5  -5  -5  -5  -5  -5  -5  -5  -5  -5  -5  -5  -5  -5  -5 \n",
      "\n",
      "$rosenbrock_20d$upper\n",
      " x1  x2  x3  x4  x5  x6  x7  x8  x9 x10 x11 x12 x13 x14 x15 x16 x17 x18 x19 x20 \n",
      " 10  10  10  10  10  10  10  10  10  10  10  10  10  10  10  10  10  10  10  10 \n",
      "\n",
      "\n",
      "$rastrigin_2d\n",
      "$rastrigin_2d$lower\n",
      "   x1    x2 \n",
      "-5.12 -5.12 \n",
      "\n",
      "$rastrigin_2d$upper\n",
      "  x1   x2 \n",
      "5.12 5.12 \n",
      "\n",
      "\n",
      "$rastrigin_10d\n",
      "$rastrigin_10d$lower\n",
      "   x1    x2    x3    x4    x5    x6    x7    x8    x9   x10 \n",
      "-5.12 -5.12 -5.12 -5.12 -5.12 -5.12 -5.12 -5.12 -5.12 -5.12 \n",
      "\n",
      "$rastrigin_10d$upper\n",
      "  x1   x2   x3   x4   x5   x6   x7   x8   x9  x10 \n",
      "5.12 5.12 5.12 5.12 5.12 5.12 5.12 5.12 5.12 5.12 \n",
      "\n",
      "\n",
      "$rastrigin_20d\n",
      "$rastrigin_20d$lower\n",
      "   x1    x2    x3    x4    x5    x6    x7    x8    x9   x10   x11   x12   x13 \n",
      "-5.12 -5.12 -5.12 -5.12 -5.12 -5.12 -5.12 -5.12 -5.12 -5.12 -5.12 -5.12 -5.12 \n",
      "  x14   x15   x16   x17   x18   x19   x20 \n",
      "-5.12 -5.12 -5.12 -5.12 -5.12 -5.12 -5.12 \n",
      "\n",
      "$rastrigin_20d$upper\n",
      "  x1   x2   x3   x4   x5   x6   x7   x8   x9  x10  x11  x12  x13  x14  x15  x16 \n",
      "5.12 5.12 5.12 5.12 5.12 5.12 5.12 5.12 5.12 5.12 5.12 5.12 5.12 5.12 5.12 5.12 \n",
      " x17  x18  x19  x20 \n",
      "5.12 5.12 5.12 5.12 \n",
      "\n",
      "\n"
     ]
    }
   ],
   "source": [
    "rosenbrock_2d <- makeRosenbrockFunction(dimensions = 2)\n",
    "rosenbrock_10d <- makeRosenbrockFunction(dimensions = 10)\n",
    "rosenbrock_20d <- makeRosenbrockFunction(dimensions = 20)\n",
    "\n",
    "rastrigin_2d <- makeRastriginFunction(dimensions = 2)\n",
    "rastrigin_10d <- makeRastriginFunction(dimensions = 10)\n",
    "rastrigin_20d <- makeRastriginFunction(dimensions = 20)\n",
    "\n",
    "NO_STARTS <- 50\n",
    "\n",
    "get_domain <- function(fun) {\n",
    "  list(\n",
    "    lower = getLowerBoxConstraints(fun),\n",
    "    upper = getUpperBoxConstraints(fun)\n",
    "  )\n",
    "}\n",
    "\n",
    "domains <- list(\n",
    "  rosenbrock_2d = get_domain(rosenbrock_2d),\n",
    "  rosenbrock_10d = get_domain(rosenbrock_10d),\n",
    "  rosenbrock_20d = get_domain(rosenbrock_20d),\n",
    "  rastrigin_2d = get_domain(rastrigin_2d),\n",
    "  rastrigin_10d = get_domain(rastrigin_10d),\n",
    "  rastrigin_20d = get_domain(rastrigin_20d)\n",
    ")\n",
    "\n",
    "print(domains)"
   ]
  },
  {
   "cell_type": "markdown",
   "metadata": {},
   "source": [
    "Funkcja ms_run znajduje minimum funcji za pomocą algorytmu MS"
   ]
  },
  {
   "cell_type": "code",
   "execution_count": 4,
   "metadata": {
    "vscode": {
     "languageId": "r"
    }
   },
   "outputs": [],
   "source": [
    "ms_run <- function(fun, domain, starts) {\n",
    "  total_evals <- 0\n",
    "  best_value <- Inf\n",
    "  \n",
    "  for (i in 1:starts) {\n",
    "    x0 <- runif(length(domain$lower), domain$lower, domain$upper)\n",
    "    \n",
    "    result <- optim(x0, fun, method = \"L-BFGS-B\", lower = domain$lower, upper = domain$upper)\n",
    "    \n",
    "    total_evals <- total_evals + result$counts[[\"function\"]]\n",
    "    if (result$value < best_value) best_value <- result$value\n",
    "  }\n",
    "  \n",
    "  list(best = best_value, evals = total_evals)\n",
    "}"
   ]
  },
  {
   "cell_type": "markdown",
   "metadata": {},
   "source": [
    "Funkcja ga_run znajduje minimum funcji za pomocą algorytmu GA ( biblioteka GA )"
   ]
  },
  {
   "cell_type": "code",
   "execution_count": 58,
   "metadata": {
    "vscode": {
     "languageId": "r"
    }
   },
   "outputs": [],
   "source": [
    "ga_run <- function(fun, domain, budget) {\n",
    "  ga_result <- ga(\n",
    "    type = \"real-valued\",\n",
    "    fitness = function(x) -fun(x),\n",
    "    lower = domain$lower,\n",
    "    upper = domain$upper,\n",
    "    popSize = 50,\n",
    "    maxiter = budget,\n",
    "    run = 20,             # Stop if the best solution doesn't improve for 10 generations\n",
    "    monitor = FALSE\n",
    "  )\n",
    "  \n",
    "  return(-ga_result@fitnessValue)  # GA maximizes, so return the negative value\n",
    "}"
   ]
  },
  {
   "cell_type": "markdown",
   "metadata": {},
   "source": [
    "Funkcja ga_run_ecr znajduje minimum funcji za pomocą algorytmu GA ( biblioteka ecr )"
   ]
  },
  {
   "cell_type": "code",
   "execution_count": 72,
   "metadata": {
    "vscode": {
     "languageId": "r"
    }
   },
   "outputs": [],
   "source": [
    "# Pierdole, nie działa\n",
    "# Do usunięcia\n",
    "library(ecr)\n",
    "\n",
    "ga_run_ecr <- function(fun, domain, budget) {\n",
    "  # 1. Funkcja celu: odwrócenie znaku (maksymalizacja przez minimalizację)\n",
    "  fitness_function <- function(x) -fun(x)\n",
    "  \n",
    "  # 2. Inicjalizacja populacji (rozmiar 50, liczba wymiarów = długość dolnych granic)\n",
    "  n_dim <- length(domain$lower)  # Liczba wymiarów\n",
    "  population <- genReal(n = 50, n.dim = n_dim, lower = domain$lower, upper = domain$upper)\n",
    "  \n",
    "  # 3. Operatory genetyczne\n",
    "  recombinator <- function(parents) {\n",
    "    # Zastosowanie recSBX do każdej pary rodziców\n",
    "    offspring <- lapply(seq(1, nrow(parents), by = 2), function(i) {\n",
    "      recSBX(\n",
    "        inds = list(parents[i, ], parents[i + 1, ]),\n",
    "        lower = domain$lower,\n",
    "        upper = domain$upper,\n",
    "        eta = 15\n",
    "      )\n",
    "    })\n",
    "    do.call(rbind, offspring)\n",
    "  }\n",
    "  \n",
    "  mutator <- function(ind) {\n",
    "    # Zastosowanie mutacji wielomianowej dla każdego osobnika\n",
    "    mutPolynomial(\n",
    "      ind = ind,\n",
    "      lower = domain$lower,\n",
    "      upper = domain$upper,\n",
    "      eta = 20\n",
    "    )\n",
    "  }\n",
    "  \n",
    "  # 4. Główna pętla: iteracje algorytmu genetycznego\n",
    "  for (iter in seq_len(budget)) {\n",
    "    # 4.1. Obliczenie fitnessu dla populacji\n",
    "    fitness_values <- evaluateFitness(population, fitness_function)\n",
    "    \n",
    "    # 4.2. Selekcja rodziców na podstawie fitnessu\n",
    "    parents <- selectForMating(population, fitness = fitness_values, selector = selTournament(k = 2))\n",
    "    \n",
    "    # 4.3. Rekombinacja rodziców (tworzenie dzieci)\n",
    "    offspring <- recombinator(parents)\n",
    "    \n",
    "    # 4.4. Mutacja dzieci\n",
    "    offspring <- t(apply(offspring, 1, mutator))  # Mutacja każdego dziecka\n",
    "    \n",
    "    # 4.5. Ewaluacja dzieci\n",
    "    offspring_fitness <- evaluateFitness(offspring, fitness_function)\n",
    "    \n",
    "    # 4.6. Zastępowanie populacji (mu + lambda)\n",
    "    population <- replaceMuPlusLambda(population, offspring, fitness = c(fitness_values, offspring_fitness))\n",
    "  }\n",
    "  \n",
    "  # 5. Pobranie najlepszego rozwiązania\n",
    "  best_individual <- getFront(population)[1, ]\n",
    "  best_value <- fitness_function(best_individual)  # Przywracamy oryginalną skalę\n",
    "  return(-best_value)\n",
    "}\n"
   ]
  },
  {
   "cell_type": "markdown",
   "metadata": {},
   "source": [
    "algorytm prs"
   ]
  },
  {
   "cell_type": "code",
   "execution_count": 61,
   "metadata": {
    "vscode": {
     "languageId": "r"
    }
   },
   "outputs": [],
   "source": [
    "prs_run <- function(fun, domain, budget) {\n",
    "  best_value <- Inf\n",
    "  \n",
    "  for (i in 1:budget) {\n",
    "    x0 <- runif(length(domain$lower), domain$lower, domain$upper)\n",
    "    result <- fun(x0)\n",
    "    best_value <- min(best_value, result)\n",
    "  }\n",
    "  \n",
    "  return(best_value)\n",
    "}"
   ]
  },
  {
   "cell_type": "markdown",
   "metadata": {},
   "source": [
    "Wykonanie pomiarów"
   ]
  },
  {
   "cell_type": "code",
   "execution_count": 75,
   "metadata": {
    "vscode": {
     "languageId": "r"
    }
   },
   "outputs": [
    {
     "name": "stdout",
     "output_type": "stream",
     "text": [
      "          Function Algorithm        Value\n",
      "1    rosenbrock_2d       PRS 2.713516e-01\n",
      "2    rosenbrock_2d       PRS 2.117369e-01\n",
      "3    rosenbrock_2d       PRS 2.086175e+00\n",
      "4    rosenbrock_2d       PRS 8.565876e-02\n",
      "5    rosenbrock_2d       PRS 1.042937e+00\n",
      "6    rosenbrock_2d       PRS 1.465784e+00\n",
      "7    rosenbrock_2d       PRS 1.568648e-01\n",
      "8    rosenbrock_2d       PRS 3.178535e-01\n",
      "9    rosenbrock_2d       PRS 1.888879e+00\n",
      "10   rosenbrock_2d       PRS 4.700362e-01\n",
      "11   rosenbrock_2d       PRS 6.290057e-01\n",
      "12   rosenbrock_2d       PRS 4.321194e-01\n",
      "13   rosenbrock_2d       PRS 1.261804e+00\n",
      "14   rosenbrock_2d       PRS 2.676788e-01\n",
      "15   rosenbrock_2d       PRS 1.617589e-01\n",
      "16   rosenbrock_2d       PRS 6.662581e-01\n",
      "17   rosenbrock_2d       PRS 2.499611e-01\n",
      "18   rosenbrock_2d       PRS 1.325250e+00\n",
      "19   rosenbrock_2d       PRS 6.041648e-01\n",
      "20   rosenbrock_2d       PRS 3.649832e-01\n",
      "21   rosenbrock_2d       PRS 1.266754e+00\n",
      "22   rosenbrock_2d       PRS 2.672196e-02\n",
      "23   rosenbrock_2d       PRS 3.411075e-01\n",
      "24   rosenbrock_2d       PRS 4.014904e-01\n",
      "25   rosenbrock_2d       PRS 3.989221e-01\n",
      "26   rosenbrock_2d       PRS 2.645043e-02\n",
      "27   rosenbrock_2d       PRS 3.707532e-01\n",
      "28   rosenbrock_2d       PRS 2.289097e+00\n",
      "29   rosenbrock_2d       PRS 2.198586e+00\n",
      "30   rosenbrock_2d       PRS 1.097501e+00\n",
      "31   rosenbrock_2d       PRS 2.702344e-02\n",
      "32   rosenbrock_2d       PRS 5.804622e-01\n",
      "33   rosenbrock_2d       PRS 6.037364e-01\n",
      "34   rosenbrock_2d       PRS 1.930773e+00\n",
      "35   rosenbrock_2d       PRS 2.392454e+00\n",
      "36   rosenbrock_2d       PRS 4.301095e-02\n",
      "37   rosenbrock_2d       PRS 1.290224e-01\n",
      "38   rosenbrock_2d       PRS 7.409339e-01\n",
      "39   rosenbrock_2d       PRS 6.687707e-01\n",
      "40   rosenbrock_2d       PRS 2.231352e+00\n",
      "41   rosenbrock_2d       PRS 5.158667e-01\n",
      "42   rosenbrock_2d       PRS 6.770482e-02\n",
      "43   rosenbrock_2d       PRS 8.639910e-01\n",
      "44   rosenbrock_2d       PRS 5.329201e-01\n",
      "45   rosenbrock_2d       PRS 1.869390e-01\n",
      "46   rosenbrock_2d       PRS 2.119361e+00\n",
      "47   rosenbrock_2d       PRS 1.625095e-01\n",
      "48   rosenbrock_2d       PRS 4.493438e-01\n",
      "49   rosenbrock_2d       PRS 7.089540e-01\n",
      "50   rosenbrock_2d       PRS 3.191607e-02\n",
      "51  rosenbrock_10d       PRS 6.778819e+04\n",
      "52  rosenbrock_10d       PRS 3.101172e+04\n",
      "53  rosenbrock_10d       PRS 2.782985e+04\n",
      "54  rosenbrock_10d       PRS 1.689002e+04\n",
      "55  rosenbrock_10d       PRS 2.111582e+04\n",
      "56  rosenbrock_10d       PRS 5.821174e+04\n",
      "57  rosenbrock_10d       PRS 4.533408e+04\n",
      "58  rosenbrock_10d       PRS 2.954704e+04\n",
      "59  rosenbrock_10d       PRS 3.885207e+04\n",
      "60  rosenbrock_10d       PRS 3.479673e+04\n",
      "61  rosenbrock_10d       PRS 1.012106e+04\n",
      "62  rosenbrock_10d       PRS 2.375362e+04\n",
      "63  rosenbrock_10d       PRS 1.589693e+04\n",
      "64  rosenbrock_10d       PRS 4.091201e+04\n",
      "65  rosenbrock_10d       PRS 1.841780e+04\n",
      "66  rosenbrock_10d       PRS 7.506968e+03\n",
      "67  rosenbrock_10d       PRS 1.321992e+04\n",
      "68  rosenbrock_10d       PRS 2.417704e+04\n",
      "69  rosenbrock_10d       PRS 2.047063e+04\n",
      "70  rosenbrock_10d       PRS 3.911070e+04\n",
      "71  rosenbrock_10d       PRS 5.044837e+04\n",
      "72  rosenbrock_10d       PRS 3.061606e+04\n",
      "73  rosenbrock_10d       PRS 5.999222e+04\n",
      "74  rosenbrock_10d       PRS 4.489157e+04\n",
      "75  rosenbrock_10d       PRS 3.814937e+04\n",
      "76  rosenbrock_10d       PRS 2.030076e+04\n",
      "77  rosenbrock_10d       PRS 1.274708e+04\n",
      "78  rosenbrock_10d       PRS 5.337336e+04\n",
      "79  rosenbrock_10d       PRS 2.167730e+04\n",
      "80  rosenbrock_10d       PRS 1.096469e+04\n",
      "81  rosenbrock_10d       PRS 1.317829e+04\n",
      "82  rosenbrock_10d       PRS 2.477076e+04\n",
      "83  rosenbrock_10d       PRS 4.822626e+04\n",
      "84  rosenbrock_10d       PRS 2.805333e+04\n",
      "85  rosenbrock_10d       PRS 4.116008e+03\n",
      "86  rosenbrock_10d       PRS 2.399205e+04\n",
      "87  rosenbrock_10d       PRS 1.947308e+04\n",
      "88  rosenbrock_10d       PRS 2.799668e+04\n",
      "89  rosenbrock_10d       PRS 3.605544e+04\n",
      "90  rosenbrock_10d       PRS 3.410880e+04\n",
      "91  rosenbrock_10d       PRS 1.458804e+04\n",
      "92  rosenbrock_10d       PRS 6.596804e+04\n",
      "93  rosenbrock_10d       PRS 2.909148e+04\n",
      "94  rosenbrock_10d       PRS 3.615058e+04\n",
      "95  rosenbrock_10d       PRS 3.947435e+04\n",
      "96  rosenbrock_10d       PRS 1.712696e+04\n",
      "97  rosenbrock_10d       PRS 2.671723e+04\n",
      "98  rosenbrock_10d       PRS 3.064023e+04\n",
      "99  rosenbrock_10d       PRS 2.973740e+04\n",
      "100 rosenbrock_10d       PRS 2.277125e+04\n",
      "101 rosenbrock_20d       PRS 2.471027e+05\n",
      "102 rosenbrock_20d       PRS 2.505114e+05\n",
      "103 rosenbrock_20d       PRS 4.019254e+05\n",
      "104 rosenbrock_20d       PRS 3.137468e+05\n",
      "105 rosenbrock_20d       PRS 2.781595e+05\n",
      "106 rosenbrock_20d       PRS 2.194778e+05\n",
      "107 rosenbrock_20d       PRS 3.949910e+05\n",
      "108 rosenbrock_20d       PRS 1.421621e+05\n",
      "109 rosenbrock_20d       PRS 3.004660e+05\n",
      "110 rosenbrock_20d       PRS 3.986090e+05\n",
      "111 rosenbrock_20d       PRS 2.093370e+05\n",
      "112 rosenbrock_20d       PRS 1.599580e+05\n",
      "113 rosenbrock_20d       PRS 2.716544e+05\n",
      "114 rosenbrock_20d       PRS 2.266375e+05\n",
      "115 rosenbrock_20d       PRS 2.775476e+05\n",
      "116 rosenbrock_20d       PRS 2.888680e+05\n",
      "117 rosenbrock_20d       PRS 3.181091e+05\n",
      "118 rosenbrock_20d       PRS 3.032995e+05\n",
      "119 rosenbrock_20d       PRS 4.806147e+05\n",
      "120 rosenbrock_20d       PRS 1.865068e+05\n",
      "121 rosenbrock_20d       PRS 3.021523e+05\n",
      "122 rosenbrock_20d       PRS 2.986088e+05\n",
      "123 rosenbrock_20d       PRS 1.779841e+05\n",
      "124 rosenbrock_20d       PRS 1.956367e+05\n",
      "125 rosenbrock_20d       PRS 3.339407e+05\n",
      "126 rosenbrock_20d       PRS 2.288694e+05\n",
      "127 rosenbrock_20d       PRS 2.232185e+05\n",
      "128 rosenbrock_20d       PRS 1.009712e+05\n",
      "129 rosenbrock_20d       PRS 4.159868e+05\n",
      "130 rosenbrock_20d       PRS 2.961642e+05\n",
      "131 rosenbrock_20d       PRS 2.991215e+05\n",
      "132 rosenbrock_20d       PRS 2.000889e+05\n",
      "133 rosenbrock_20d       PRS 3.547184e+05\n",
      "134 rosenbrock_20d       PRS 2.053137e+05\n",
      "135 rosenbrock_20d       PRS 1.548642e+05\n",
      "136 rosenbrock_20d       PRS 3.620666e+05\n",
      "137 rosenbrock_20d       PRS 3.025787e+05\n",
      "138 rosenbrock_20d       PRS 2.688049e+05\n",
      "139 rosenbrock_20d       PRS 3.903408e+05\n",
      "140 rosenbrock_20d       PRS 4.181052e+05\n",
      "141 rosenbrock_20d       PRS 2.681590e+05\n",
      "142 rosenbrock_20d       PRS 2.371162e+05\n",
      "143 rosenbrock_20d       PRS 3.324178e+05\n",
      "144 rosenbrock_20d       PRS 3.598619e+05\n",
      "145 rosenbrock_20d       PRS 2.345160e+05\n",
      "146 rosenbrock_20d       PRS 3.572241e+05\n",
      "147 rosenbrock_20d       PRS 4.171092e+05\n",
      "148 rosenbrock_20d       PRS 3.817769e+05\n",
      "149 rosenbrock_20d       PRS 3.287249e+05\n",
      "150 rosenbrock_20d       PRS 5.092299e+05\n",
      "151   rastrigin_2d       PRS 7.476636e-01\n",
      "152   rastrigin_2d       PRS 2.633116e+00\n",
      "153   rastrigin_2d       PRS 1.036016e+00\n",
      "154   rastrigin_2d       PRS 1.867968e-01\n",
      "155   rastrigin_2d       PRS 1.000153e+00\n",
      "156   rastrigin_2d       PRS 2.031056e+00\n",
      "157   rastrigin_2d       PRS 1.843139e+00\n",
      "158   rastrigin_2d       PRS 3.295891e+00\n",
      "159   rastrigin_2d       PRS 3.018932e-01\n",
      "160   rastrigin_2d       PRS 1.804364e+00\n",
      "161   rastrigin_2d       PRS 2.128297e+00\n",
      "162   rastrigin_2d       PRS 2.914084e-01\n",
      "163   rastrigin_2d       PRS 2.749452e+00\n",
      "164   rastrigin_2d       PRS 1.764847e-01\n",
      "165   rastrigin_2d       PRS 1.117099e+00\n",
      "166   rastrigin_2d       PRS 9.856990e-01\n",
      "167   rastrigin_2d       PRS 1.036197e+00\n",
      "168   rastrigin_2d       PRS 1.388555e+00\n",
      "169   rastrigin_2d       PRS 1.076945e+00\n",
      "170   rastrigin_2d       PRS 1.547930e+00\n",
      "171   rastrigin_2d       PRS 8.574363e-01\n",
      "172   rastrigin_2d       PRS 1.803724e+00\n",
      "173   rastrigin_2d       PRS 2.309401e+00\n",
      "174   rastrigin_2d       PRS 3.485198e+00\n",
      "175   rastrigin_2d       PRS 1.979420e+00\n",
      "176   rastrigin_2d       PRS 2.848001e+00\n",
      "177   rastrigin_2d       PRS 1.106420e+00\n",
      "178   rastrigin_2d       PRS 1.378107e+00\n",
      "179   rastrigin_2d       PRS 6.120373e-01\n",
      "180   rastrigin_2d       PRS 1.563233e+00\n",
      "181   rastrigin_2d       PRS 2.036424e+00\n",
      "182   rastrigin_2d       PRS 1.310151e-01\n",
      "183   rastrigin_2d       PRS 1.013392e+00\n",
      "184   rastrigin_2d       PRS 1.899779e+00\n",
      "185   rastrigin_2d       PRS 7.144817e-01\n",
      "186   rastrigin_2d       PRS 1.552155e+00\n",
      "187   rastrigin_2d       PRS 1.158371e+00\n",
      "188   rastrigin_2d       PRS 1.190900e+00\n",
      "189   rastrigin_2d       PRS 2.247455e+00\n",
      "190   rastrigin_2d       PRS 1.863293e+00\n",
      "191   rastrigin_2d       PRS 1.130220e+00\n",
      "192   rastrigin_2d       PRS 4.226644e-03\n",
      "193   rastrigin_2d       PRS 1.151154e+00\n",
      "194   rastrigin_2d       PRS 4.202294e+00\n",
      "195   rastrigin_2d       PRS 2.136526e+00\n",
      "196   rastrigin_2d       PRS 2.380748e+00\n",
      "197   rastrigin_2d       PRS 8.199866e-02\n",
      "198   rastrigin_2d       PRS 1.041937e+00\n",
      "199   rastrigin_2d       PRS 2.181266e+00\n",
      "200   rastrigin_2d       PRS 1.245606e+00\n",
      "201  rastrigin_10d       PRS 9.165945e+01\n",
      "202  rastrigin_10d       PRS 9.573928e+01\n",
      "203  rastrigin_10d       PRS 8.822189e+01\n",
      "204  rastrigin_10d       PRS 8.238901e+01\n",
      "205  rastrigin_10d       PRS 8.500505e+01\n",
      "206  rastrigin_10d       PRS 7.386147e+01\n",
      "207  rastrigin_10d       PRS 8.100294e+01\n",
      "208  rastrigin_10d       PRS 6.898632e+01\n",
      "209  rastrigin_10d       PRS 9.094758e+01\n",
      "210  rastrigin_10d       PRS 9.054567e+01\n",
      "211  rastrigin_10d       PRS 9.680324e+01\n",
      "212  rastrigin_10d       PRS 8.836955e+01\n",
      "213  rastrigin_10d       PRS 6.943172e+01\n",
      "214  rastrigin_10d       PRS 7.561775e+01\n",
      "215  rastrigin_10d       PRS 7.992967e+01\n",
      "216  rastrigin_10d       PRS 7.029475e+01\n",
      "217  rastrigin_10d       PRS 1.089726e+02\n",
      "218  rastrigin_10d       PRS 9.204165e+01\n",
      "219  rastrigin_10d       PRS 9.184585e+01\n",
      "220  rastrigin_10d       PRS 8.701669e+01\n",
      "221  rastrigin_10d       PRS 9.671690e+01\n",
      "222  rastrigin_10d       PRS 8.376331e+01\n",
      "223  rastrigin_10d       PRS 8.289216e+01\n",
      "224  rastrigin_10d       PRS 9.126664e+01\n",
      "225  rastrigin_10d       PRS 9.693191e+01\n",
      "226  rastrigin_10d       PRS 9.395265e+01\n",
      "227  rastrigin_10d       PRS 6.491933e+01\n",
      "228  rastrigin_10d       PRS 8.326355e+01\n",
      "229  rastrigin_10d       PRS 8.631816e+01\n",
      "230  rastrigin_10d       PRS 7.945378e+01\n",
      "231  rastrigin_10d       PRS 9.765915e+01\n",
      "232  rastrigin_10d       PRS 9.388382e+01\n",
      "233  rastrigin_10d       PRS 8.378997e+01\n",
      "234  rastrigin_10d       PRS 9.382440e+01\n",
      "235  rastrigin_10d       PRS 8.565123e+01\n",
      "236  rastrigin_10d       PRS 8.509934e+01\n",
      "237  rastrigin_10d       PRS 7.605757e+01\n",
      "238  rastrigin_10d       PRS 1.007538e+02\n",
      "239  rastrigin_10d       PRS 8.086403e+01\n",
      "240  rastrigin_10d       PRS 9.038723e+01\n",
      "241  rastrigin_10d       PRS 7.266133e+01\n",
      "242  rastrigin_10d       PRS 9.584171e+01\n",
      "243  rastrigin_10d       PRS 8.782712e+01\n",
      "244  rastrigin_10d       PRS 7.891920e+01\n",
      "245  rastrigin_10d       PRS 9.955205e+01\n",
      "246  rastrigin_10d       PRS 9.501611e+01\n",
      "247  rastrigin_10d       PRS 9.898822e+01\n",
      "248  rastrigin_10d       PRS 9.378650e+01\n",
      "249  rastrigin_10d       PRS 8.101914e+01\n",
      "250  rastrigin_10d       PRS 9.292524e+01\n",
      "251  rastrigin_20d       PRS 2.287042e+02\n",
      "252  rastrigin_20d       PRS 2.337043e+02\n",
      "253  rastrigin_20d       PRS 2.046753e+02\n",
      "254  rastrigin_20d       PRS 2.482354e+02\n",
      "255  rastrigin_20d       PRS 2.299486e+02\n",
      "256  rastrigin_20d       PRS 2.453000e+02\n",
      "257  rastrigin_20d       PRS 2.457661e+02\n",
      "258  rastrigin_20d       PRS 2.332048e+02\n",
      "259  rastrigin_20d       PRS 2.402810e+02\n",
      "260  rastrigin_20d       PRS 2.508507e+02\n",
      "261  rastrigin_20d       PRS 2.281478e+02\n",
      "262  rastrigin_20d       PRS 2.444932e+02\n",
      "263  rastrigin_20d       PRS 2.202440e+02\n",
      "264  rastrigin_20d       PRS 2.318062e+02\n",
      "265  rastrigin_20d       PRS 2.222668e+02\n",
      "266  rastrigin_20d       PRS 2.078793e+02\n",
      "267  rastrigin_20d       PRS 2.354676e+02\n",
      "268  rastrigin_20d       PRS 2.497204e+02\n",
      "269  rastrigin_20d       PRS 2.415864e+02\n",
      "270  rastrigin_20d       PRS 2.418727e+02\n",
      "271  rastrigin_20d       PRS 1.936009e+02\n",
      "272  rastrigin_20d       PRS 2.305083e+02\n",
      "273  rastrigin_20d       PRS 2.346830e+02\n",
      "274  rastrigin_20d       PRS 2.383904e+02\n",
      "275  rastrigin_20d       PRS 2.208849e+02\n",
      "276  rastrigin_20d       PRS 2.390724e+02\n",
      "277  rastrigin_20d       PRS 2.300188e+02\n",
      "278  rastrigin_20d       PRS 2.202654e+02\n",
      "279  rastrigin_20d       PRS 2.252748e+02\n",
      "280  rastrigin_20d       PRS 2.275356e+02\n",
      "281  rastrigin_20d       PRS 2.121034e+02\n",
      "282  rastrigin_20d       PRS 2.162283e+02\n",
      "283  rastrigin_20d       PRS 2.220204e+02\n",
      "284  rastrigin_20d       PRS 2.642322e+02\n",
      "285  rastrigin_20d       PRS 2.421610e+02\n",
      "286  rastrigin_20d       PRS 2.483778e+02\n",
      "287  rastrigin_20d       PRS 2.173105e+02\n",
      "288  rastrigin_20d       PRS 2.311884e+02\n",
      "289  rastrigin_20d       PRS 2.161577e+02\n",
      "290  rastrigin_20d       PRS 2.225925e+02\n",
      "291  rastrigin_20d       PRS 2.208839e+02\n",
      "292  rastrigin_20d       PRS 2.442499e+02\n",
      "293  rastrigin_20d       PRS 2.222234e+02\n",
      "294  rastrigin_20d       PRS 2.176147e+02\n",
      "295  rastrigin_20d       PRS 2.209692e+02\n",
      "296  rastrigin_20d       PRS 1.871794e+02\n",
      "297  rastrigin_20d       PRS 2.444616e+02\n",
      "298  rastrigin_20d       PRS 1.958170e+02\n",
      "299  rastrigin_20d       PRS 2.268669e+02\n",
      "300  rastrigin_20d       PRS 2.118899e+02\n",
      "301  rosenbrock_2d        GA 8.311053e-03\n",
      "302  rosenbrock_2d        GA 4.654827e-03\n",
      "303  rosenbrock_2d        GA 1.714984e-01\n",
      "304  rosenbrock_2d        GA 3.546347e-02\n",
      "305  rosenbrock_2d        GA 2.815323e-01\n",
      "306  rosenbrock_2d        GA 2.492868e-03\n",
      "307  rosenbrock_2d        GA 1.974341e-02\n",
      "308  rosenbrock_2d        GA 1.386577e-03\n",
      "309  rosenbrock_2d        GA 1.420344e-02\n",
      "310  rosenbrock_2d        GA 6.648903e-04\n",
      "311  rosenbrock_2d        GA 5.903898e-05\n",
      "312  rosenbrock_2d        GA 4.793698e-04\n",
      "313  rosenbrock_2d        GA 7.605747e-05\n",
      "314  rosenbrock_2d        GA 1.794730e-02\n",
      "315  rosenbrock_2d        GA 7.572630e-02\n",
      "316  rosenbrock_2d        GA 5.667385e-05\n",
      "317  rosenbrock_2d        GA 1.633039e-03\n",
      "318  rosenbrock_2d        GA 8.446118e-02\n",
      "319  rosenbrock_2d        GA 5.668959e-02\n",
      "320  rosenbrock_2d        GA 7.736975e-03\n",
      "321  rosenbrock_2d        GA 1.394410e-03\n",
      "322  rosenbrock_2d        GA 1.059853e-03\n",
      "323  rosenbrock_2d        GA 9.523857e-04\n",
      "324  rosenbrock_2d        GA 2.036100e-05\n",
      "325  rosenbrock_2d        GA 5.385782e-02\n",
      "326  rosenbrock_2d        GA 7.877143e-04\n",
      "327  rosenbrock_2d        GA 3.677873e-02\n",
      "328  rosenbrock_2d        GA 1.113234e-04\n",
      "329  rosenbrock_2d        GA 2.128463e-04\n",
      "330  rosenbrock_2d        GA 3.493199e-02\n",
      "331  rosenbrock_2d        GA 2.016080e-03\n",
      "332  rosenbrock_2d        GA 7.789898e-03\n",
      "333  rosenbrock_2d        GA 2.820535e-02\n",
      "334  rosenbrock_2d        GA 8.267184e-03\n",
      "335  rosenbrock_2d        GA 2.109116e-02\n",
      "336  rosenbrock_2d        GA 3.901551e-03\n",
      "337  rosenbrock_2d        GA 7.536698e-04\n",
      "338  rosenbrock_2d        GA 3.421448e-02\n",
      "339  rosenbrock_2d        GA 1.386116e-03\n",
      "340  rosenbrock_2d        GA 9.938078e-04\n",
      "341  rosenbrock_2d        GA 3.012861e-03\n",
      "342  rosenbrock_2d        GA 6.359412e-03\n",
      "343  rosenbrock_2d        GA 3.034858e-04\n",
      "344  rosenbrock_2d        GA 7.424075e-03\n",
      "345  rosenbrock_2d        GA 1.744211e-01\n",
      "346  rosenbrock_2d        GA 4.772383e-03\n",
      "347  rosenbrock_2d        GA 2.298738e-04\n",
      "348  rosenbrock_2d        GA 7.184018e-03\n",
      "349  rosenbrock_2d        GA 1.221082e-03\n",
      "350  rosenbrock_2d        GA 1.855091e-03\n",
      "351 rosenbrock_10d        GA 7.849436e+01\n",
      "352 rosenbrock_10d        GA 4.206660e+01\n",
      "353 rosenbrock_10d        GA 7.145630e+01\n",
      "354 rosenbrock_10d        GA 8.382327e+01\n",
      "355 rosenbrock_10d        GA 3.387844e+02\n",
      "356 rosenbrock_10d        GA 1.367025e+02\n",
      "357 rosenbrock_10d        GA 6.259919e+01\n",
      "358 rosenbrock_10d        GA 7.516387e+01\n",
      "359 rosenbrock_10d        GA 3.566224e+02\n",
      "360 rosenbrock_10d        GA 1.720542e+01\n",
      "361 rosenbrock_10d        GA 2.756395e+01\n",
      "362 rosenbrock_10d        GA 1.123339e+02\n",
      "363 rosenbrock_10d        GA 7.908999e+01\n",
      "364 rosenbrock_10d        GA 5.462861e+01\n",
      "365 rosenbrock_10d        GA 2.180578e+02\n",
      "366 rosenbrock_10d        GA 6.817528e+01\n",
      "367 rosenbrock_10d        GA 8.149017e+01\n",
      "368 rosenbrock_10d        GA 6.746480e+01\n",
      "369 rosenbrock_10d        GA 9.706719e+01\n",
      "370 rosenbrock_10d        GA 2.451029e+02\n",
      "371 rosenbrock_10d        GA 2.735271e+02\n",
      "372 rosenbrock_10d        GA 1.670537e+02\n",
      "373 rosenbrock_10d        GA 6.821739e+01\n",
      "374 rosenbrock_10d        GA 8.911951e+01\n",
      "375 rosenbrock_10d        GA 6.823893e+02\n",
      "376 rosenbrock_10d        GA 1.686023e+02\n",
      "377 rosenbrock_10d        GA 1.281794e+01\n",
      "378 rosenbrock_10d        GA 3.628974e+01\n",
      "379 rosenbrock_10d        GA 7.244595e+01\n",
      "380 rosenbrock_10d        GA 9.451458e+01\n",
      "381 rosenbrock_10d        GA 5.933431e+00\n",
      "382 rosenbrock_10d        GA 3.665472e+01\n",
      "383 rosenbrock_10d        GA 1.142653e+01\n",
      "384 rosenbrock_10d        GA 3.695306e+01\n",
      "385 rosenbrock_10d        GA 2.590749e+01\n",
      "386 rosenbrock_10d        GA 4.764861e+01\n",
      "387 rosenbrock_10d        GA 2.148999e+02\n",
      "388 rosenbrock_10d        GA 4.646505e+01\n",
      "389 rosenbrock_10d        GA 1.427325e+01\n",
      "390 rosenbrock_10d        GA 1.181509e+02\n",
      "391 rosenbrock_10d        GA 1.553202e+01\n",
      "392 rosenbrock_10d        GA 9.093281e+01\n",
      "393 rosenbrock_10d        GA 3.550632e+01\n",
      "394 rosenbrock_10d        GA 1.104676e+02\n",
      "395 rosenbrock_10d        GA 8.798097e+00\n",
      "396 rosenbrock_10d        GA 1.629335e+02\n",
      "397 rosenbrock_10d        GA 3.999677e+01\n",
      "398 rosenbrock_10d        GA 2.769774e+01\n",
      "399 rosenbrock_10d        GA 5.886986e+01\n",
      "400 rosenbrock_10d        GA 4.983790e+01\n",
      "401 rosenbrock_20d        GA 2.927729e+02\n",
      "402 rosenbrock_20d        GA 1.529389e+03\n",
      "403 rosenbrock_20d        GA 3.819997e+02\n",
      "404 rosenbrock_20d        GA 2.134098e+02\n",
      "405 rosenbrock_20d        GA 2.219503e+03\n",
      "406 rosenbrock_20d        GA 1.175968e+02\n",
      "407 rosenbrock_20d        GA 2.219284e+02\n",
      "408 rosenbrock_20d        GA 1.213202e+02\n",
      "409 rosenbrock_20d        GA 2.496520e+02\n",
      "410 rosenbrock_20d        GA 3.788721e+02\n",
      "411 rosenbrock_20d        GA 4.003346e+02\n",
      "412 rosenbrock_20d        GA 2.328477e+02\n",
      "413 rosenbrock_20d        GA 2.110497e+02\n",
      "414 rosenbrock_20d        GA 3.652998e+03\n",
      "415 rosenbrock_20d        GA 1.404317e+02\n",
      "416 rosenbrock_20d        GA 2.118384e+02\n",
      "417 rosenbrock_20d        GA 3.608021e+02\n",
      "418 rosenbrock_20d        GA 1.485003e+02\n",
      "419 rosenbrock_20d        GA 6.613376e+03\n",
      "420 rosenbrock_20d        GA 2.482186e+02\n",
      "421 rosenbrock_20d        GA 1.063110e+03\n",
      "422 rosenbrock_20d        GA 2.265203e+02\n",
      "423 rosenbrock_20d        GA 2.123061e+02\n",
      "424 rosenbrock_20d        GA 1.468202e+03\n",
      "425 rosenbrock_20d        GA 3.367010e+02\n",
      "426 rosenbrock_20d        GA 1.434501e+02\n",
      "427 rosenbrock_20d        GA 7.494707e+03\n",
      "428 rosenbrock_20d        GA 1.769598e+02\n",
      "429 rosenbrock_20d        GA 1.695708e+02\n",
      "430 rosenbrock_20d        GA 8.302575e+01\n",
      "431 rosenbrock_20d        GA 2.408413e+02\n",
      "432 rosenbrock_20d        GA 8.633790e+01\n",
      "433 rosenbrock_20d        GA 2.836123e+03\n",
      "434 rosenbrock_20d        GA 1.373705e+02\n",
      "435 rosenbrock_20d        GA 1.337235e+02\n",
      "436 rosenbrock_20d        GA 1.396989e+02\n",
      "437 rosenbrock_20d        GA 1.728617e+02\n",
      "438 rosenbrock_20d        GA 1.256050e+03\n",
      "439 rosenbrock_20d        GA 3.249303e+02\n",
      "440 rosenbrock_20d        GA 1.742377e+02\n",
      "441 rosenbrock_20d        GA 1.003145e+03\n",
      "442 rosenbrock_20d        GA 2.538437e+03\n",
      "443 rosenbrock_20d        GA 1.556673e+03\n",
      "444 rosenbrock_20d        GA 7.959223e+02\n",
      "445 rosenbrock_20d        GA 3.196301e+02\n",
      "446 rosenbrock_20d        GA 1.691873e+03\n",
      "447 rosenbrock_20d        GA 1.727424e+03\n",
      "448 rosenbrock_20d        GA 1.827561e+02\n",
      "449 rosenbrock_20d        GA 1.554169e+02\n",
      "450 rosenbrock_20d        GA 3.447224e+03\n",
      "451   rastrigin_2d        GA 2.785139e-05\n",
      "452   rastrigin_2d        GA 4.584736e-05\n",
      "453   rastrigin_2d        GA 1.936844e-04\n",
      "454   rastrigin_2d        GA 1.761866e-05\n",
      "455   rastrigin_2d        GA 1.786087e-06\n",
      "456   rastrigin_2d        GA 2.515154e-06\n",
      "457   rastrigin_2d        GA 1.587748e-04\n",
      "458   rastrigin_2d        GA 2.583081e-06\n",
      "459   rastrigin_2d        GA 4.873189e-05\n",
      "460   rastrigin_2d        GA 1.849342e-04\n",
      "461   rastrigin_2d        GA 1.614032e-04\n",
      "462   rastrigin_2d        GA 1.341221e-05\n",
      "463   rastrigin_2d        GA 2.722891e-05\n",
      "464   rastrigin_2d        GA 1.616692e-04\n",
      "465   rastrigin_2d        GA 8.460760e-05\n",
      "466   rastrigin_2d        GA 3.839882e-06\n",
      "467   rastrigin_2d        GA 5.483009e-03\n",
      "468   rastrigin_2d        GA 1.540971e-02\n",
      "469   rastrigin_2d        GA 1.121113e-06\n",
      "470   rastrigin_2d        GA 2.954491e-05\n",
      "471   rastrigin_2d        GA 2.887345e-04\n",
      "472   rastrigin_2d        GA 1.970370e-02\n",
      "473   rastrigin_2d        GA 1.961734e-05\n",
      "474   rastrigin_2d        GA 3.607642e-04\n",
      "475   rastrigin_2d        GA 9.848029e-06\n",
      "476   rastrigin_2d        GA 1.925000e-03\n",
      "477   rastrigin_2d        GA 1.008938e-03\n",
      "478   rastrigin_2d        GA 3.788546e-04\n",
      "479   rastrigin_2d        GA 4.575133e-02\n",
      "480   rastrigin_2d        GA 6.369476e-07\n",
      "481   rastrigin_2d        GA 6.628173e-05\n",
      "482   rastrigin_2d        GA 1.413791e-03\n",
      "483   rastrigin_2d        GA 7.213390e-08\n",
      "484   rastrigin_2d        GA 9.871250e-07\n",
      "485   rastrigin_2d        GA 1.503336e-01\n",
      "486   rastrigin_2d        GA 7.388826e-05\n",
      "487   rastrigin_2d        GA 2.994089e-05\n",
      "488   rastrigin_2d        GA 1.372797e-06\n",
      "489   rastrigin_2d        GA 5.436834e-05\n",
      "490   rastrigin_2d        GA 5.223085e-02\n",
      "491   rastrigin_2d        GA 1.371998e-04\n",
      "492   rastrigin_2d        GA 8.796999e-05\n",
      "493   rastrigin_2d        GA 1.490377e-04\n",
      "494   rastrigin_2d        GA 8.181919e-05\n",
      "495   rastrigin_2d        GA 3.829714e-05\n",
      "496   rastrigin_2d        GA 3.305920e-04\n",
      "497   rastrigin_2d        GA 8.513786e-07\n",
      "498   rastrigin_2d        GA 5.656693e-08\n",
      "499   rastrigin_2d        GA 4.702172e-04\n",
      "500   rastrigin_2d        GA 1.037179e-04\n",
      "501  rastrigin_10d        GA 5.629967e+00\n",
      "502  rastrigin_10d        GA 2.780405e+00\n",
      "503  rastrigin_10d        GA 3.858574e+00\n",
      "504  rastrigin_10d        GA 6.141828e+00\n",
      "505  rastrigin_10d        GA 1.828772e+00\n",
      "506  rastrigin_10d        GA 3.663547e+00\n",
      "507  rastrigin_10d        GA 5.379173e+00\n",
      "508  rastrigin_10d        GA 5.408585e+00\n",
      "509  rastrigin_10d        GA 1.743254e+01\n",
      "510  rastrigin_10d        GA 3.801606e+00\n",
      "511  rastrigin_10d        GA 6.897750e+00\n",
      "512  rastrigin_10d        GA 4.229868e+01\n",
      "513  rastrigin_10d        GA 4.671871e+00\n",
      "514  rastrigin_10d        GA 2.242612e+00\n",
      "515  rastrigin_10d        GA 5.798172e+00\n",
      "516  rastrigin_10d        GA 5.998803e+00\n",
      "517  rastrigin_10d        GA 4.259507e+00\n",
      "518  rastrigin_10d        GA 2.649020e+00\n",
      "519  rastrigin_10d        GA 1.131851e+01\n",
      "520  rastrigin_10d        GA 4.311648e+00\n",
      "521  rastrigin_10d        GA 9.785467e-02\n",
      "522  rastrigin_10d        GA 7.781234e+00\n",
      "523  rastrigin_10d        GA 1.772085e+00\n",
      "524  rastrigin_10d        GA 3.679376e+00\n",
      "525  rastrigin_10d        GA 4.004795e-01\n",
      "526  rastrigin_10d        GA 2.850927e+00\n",
      "527  rastrigin_10d        GA 4.024414e+00\n",
      "528  rastrigin_10d        GA 9.072296e+00\n",
      "529  rastrigin_10d        GA 2.113484e+00\n",
      "530  rastrigin_10d        GA 5.485272e+00\n",
      "531  rastrigin_10d        GA 5.824668e+00\n",
      "532  rastrigin_10d        GA 6.082441e+00\n",
      "533  rastrigin_10d        GA 3.283183e+00\n",
      "534  rastrigin_10d        GA 3.728603e-02\n",
      "535  rastrigin_10d        GA 1.413356e+00\n",
      "536  rastrigin_10d        GA 8.871245e-02\n",
      "537  rastrigin_10d        GA 4.626630e+00\n",
      "538  rastrigin_10d        GA 4.107643e+00\n",
      "539  rastrigin_10d        GA 1.570769e+00\n",
      "540  rastrigin_10d        GA 7.255695e+00\n",
      "541  rastrigin_10d        GA 1.549808e+00\n",
      "542  rastrigin_10d        GA 4.974151e+00\n",
      "543  rastrigin_10d        GA 6.273844e+00\n",
      "544  rastrigin_10d        GA 4.020097e+00\n",
      "545  rastrigin_10d        GA 7.960901e+00\n",
      "546  rastrigin_10d        GA 4.813967e+00\n",
      "547  rastrigin_10d        GA 5.299394e+00\n",
      "548  rastrigin_10d        GA 4.475749e+00\n",
      "549  rastrigin_10d        GA 4.239390e+00\n",
      "550  rastrigin_10d        GA 4.059089e+00\n",
      "551  rastrigin_20d        GA 8.229381e+00\n",
      "552  rastrigin_20d        GA 2.590029e+01\n",
      "553  rastrigin_20d        GA 1.115900e+01\n",
      "554  rastrigin_20d        GA 9.368376e+00\n",
      "555  rastrigin_20d        GA 1.371559e+01\n",
      "556  rastrigin_20d        GA 1.365718e+01\n",
      "557  rastrigin_20d        GA 5.951483e+00\n",
      "558  rastrigin_20d        GA 7.643345e+00\n",
      "559  rastrigin_20d        GA 9.529910e+00\n",
      "560  rastrigin_20d        GA 2.606601e+01\n",
      "561  rastrigin_20d        GA 1.486760e+01\n",
      "562  rastrigin_20d        GA 2.005762e+01\n",
      "563  rastrigin_20d        GA 1.741345e+01\n",
      "564  rastrigin_20d        GA 2.462951e+01\n",
      "565  rastrigin_20d        GA 1.596255e+01\n",
      "566  rastrigin_20d        GA 1.732733e+01\n",
      "567  rastrigin_20d        GA 9.164278e+00\n",
      "568  rastrigin_20d        GA 9.561711e+00\n",
      "569  rastrigin_20d        GA 1.194895e+01\n",
      "570  rastrigin_20d        GA 1.838374e+00\n",
      "571  rastrigin_20d        GA 1.108294e+01\n",
      "572  rastrigin_20d        GA 1.874255e+01\n",
      "573  rastrigin_20d        GA 1.064227e+01\n",
      "574  rastrigin_20d        GA 1.139512e+01\n",
      "575  rastrigin_20d        GA 9.105850e+01\n",
      "576  rastrigin_20d        GA 1.103263e+01\n",
      "577  rastrigin_20d        GA 2.217524e+01\n",
      "578  rastrigin_20d        GA 9.000528e+00\n",
      "579  rastrigin_20d        GA 6.388906e+00\n",
      "580  rastrigin_20d        GA 2.265184e+01\n",
      "581  rastrigin_20d        GA 1.763585e+01\n",
      "582  rastrigin_20d        GA 2.062824e+01\n",
      "583  rastrigin_20d        GA 1.152569e+01\n",
      "584  rastrigin_20d        GA 1.257464e+01\n",
      "585  rastrigin_20d        GA 1.041587e+01\n",
      "586  rastrigin_20d        GA 1.556335e+01\n",
      "587  rastrigin_20d        GA 8.389917e+01\n",
      "588  rastrigin_20d        GA 1.108346e+01\n",
      "589  rastrigin_20d        GA 9.004663e+00\n",
      "590  rastrigin_20d        GA 1.186599e+01\n",
      "591  rastrigin_20d        GA 1.152426e+01\n",
      "592  rastrigin_20d        GA 7.555793e+01\n",
      "593  rastrigin_20d        GA 1.478252e+01\n",
      "594  rastrigin_20d        GA 2.512914e+01\n",
      "595  rastrigin_20d        GA 1.122584e+01\n",
      "596  rastrigin_20d        GA 1.755958e+01\n",
      "597  rastrigin_20d        GA 9.077235e+00\n",
      "598  rastrigin_20d        GA 8.702505e+00\n",
      "599  rastrigin_20d        GA 8.644792e+00\n",
      "600  rastrigin_20d        GA 2.634862e+01\n"
     ]
    }
   ],
   "source": [
    "run_experiments <- function(fun, domain, algorithm, budget, starts = NO_STARTS) {\n",
    "  if (algorithm == \"MS\") {\n",
    "    replicate(50, ms_run(fun, domain, starts)$best)\n",
    "  } else if (algorithm == \"GA\") {\n",
    "    replicate(50, ga_run(fun, domain, budget))\n",
    "  } else if (algorithm == \"PRS\") {\n",
    "    replicate(50, prs_run(fun, domain, budget))\n",
    "  }\n",
    "}\n",
    "\n",
    "experiments <- list(\n",
    "  rosenbrock_2d = list(fun = rosenbrock_2d, domain = domains$rosenbrock_2d),\n",
    "  rosenbrock_10d = list(fun = rosenbrock_10d, domain = domains$rosenbrock_10d),\n",
    "  rosenbrock_20d = list(fun = rosenbrock_20d, domain = domains$rosenbrock_20d),\n",
    "  rastrigin_2d = list(fun = rastrigin_2d, domain = domains$rastrigin_2d),\n",
    "  rastrigin_10d = list(fun = rastrigin_10d, domain = domains$rastrigin_10d),\n",
    "  rastrigin_20d = list(fun = rastrigin_20d, domain = domains$rastrigin_20d)\n",
    ")\n",
    "\n",
    "# ms_results <- lapply(experiments, function(exp) {\n",
    "#   ms_run(exp$fun, exp$domain, starts = NO_STARTS)\n",
    "# })\n",
    "\n",
    "# budget <- mean(sapply(ms_results, function(res) res$evals))\n",
    "\n",
    "# tutaj powinno być budget = 1000 chyba\n",
    "ga_results <- lapply(seq_along(experiments), function(i) {\n",
    "  run_experiments(experiments[[i]]$fun, experiments[[i]]$domain, \"GA\", budget = 1000)\n",
    "})\n",
    "\n",
    "prs_results <- lapply(seq_along(experiments), function(i) {\n",
    "  run_experiments(experiments[[i]]$fun, experiments[[i]]$domain, \"PRS\", budget = 1000)\n",
    "})\n",
    "\n",
    "# ms_best_values <- lapply(ms_results, function(res) rep(res$best, 50))\n",
    "\n",
    "results <- data.frame(\n",
    "  Function = rep(names(experiments), each = 50),\n",
    "  Algorithm = rep(c(\"PRS\", \"GA\"), each = 50 * length(experiments)),\n",
    "  Value = c(unlist(prs_results), unlist(ga_results))\n",
    ")\n",
    "\n",
    "print(results)"
   ]
  },
  {
   "cell_type": "markdown",
   "metadata": {},
   "source": [
    "Zapis do CSV"
   ]
  },
  {
   "cell_type": "code",
   "execution_count": 94,
   "metadata": {
    "vscode": {
     "languageId": "r"
    }
   },
   "outputs": [],
   "source": [
    "# Najpierw PRS\n",
    "for (i in seq_along(prs_results)) {\n",
    "    data <- unlist(prs_results[i])\n",
    "\n",
    "    file_name <- paste0(\"./data/\", names(experiments[i]),\"PRS\", \".csv\")\n",
    "    \n",
    "    write.csv(data, file = file_name, row.names = FALSE)\n",
    "}\n",
    "\n",
    "# potem GA\n",
    "for (i in seq_along(ga_results)) {\n",
    "    data <- unlist(ga_results[i])\n",
    "\n",
    "    file_name <- paste0(\"./data/\", names(experiments[i]),\"GA\", \".csv\")\n",
    "    \n",
    "    write.csv(data, file = file_name, row.names = FALSE)\n",
    "}\n",
    "# full res\n",
    "\n",
    "write.csv(results, file = \"./data/results\", row.names = FALSE)"
   ]
  },
  {
   "cell_type": "markdown",
   "metadata": {},
   "source": [
    "Wykresy"
   ]
  },
  {
   "cell_type": "code",
   "execution_count": 8,
   "metadata": {
    "vscode": {
     "languageId": "r"
    }
   },
   "outputs": [],
   "source": [
    "# res <- results %>% group_by(Function) %>% arrange(desc(Value)) %>% slice(-1:-5)\n",
    "res <- results"
   ]
  },
  {
   "cell_type": "code",
   "execution_count": null,
   "metadata": {
    "vscode": {
     "languageId": "r"
    }
   },
   "outputs": [
    {
     "data": {
      "image/png": "[encoded data removed]",
      "text/plain": [
       "plot without title"
      ]
     },
     "metadata": {
      "image/png": {
       "height": 420,
       "width": 420
      }
     },
     "output_type": "display_data"
    }
   ],
   "source": [
    "ggplot(res, aes(x = Function, y = Value, fill = Algorithm)) +\n",
    "  geom_boxplot() +\n",
    "  facet_wrap(~Function, scales = \"free\") +\n",
    "  labs(title = \"Comparison of PRS and GA on Rosenbrock and Rastrigin Functions\",\n",
    "       y = \"Minimum Function Value\",\n",
    "       x = \"Function and Dimension\") +\n",
    "  theme_minimal()"
   ]
  },
  {
   "cell_type": "code",
   "execution_count": 13,
   "metadata": {
    "vscode": {
     "languageId": "r"
    }
   },
   "outputs": [
    {
     "data": {
      "image/png": "[encoded data removed]",
      "text/plain": [
       "plot without title"
      ]
     },
     "metadata": {
      "image/png": {
       "height": 420,
       "width": 420
      }
     },
     "output_type": "display_data"
    }
   ],
   "source": [
    "ggplot(res, aes(x = Function, y = Value, fill = Algorithm)) +\n",
    "  geom_violin() +\n",
    "  facet_wrap(~Algorithm + Function, scales = \"free\") +\n",
    "  labs(title = \"Comparison of PRS and GA on Rosenbrock and Rastrigin Functions\",\n",
    "       y = \"Minimum Function Value\",\n",
    "       x = \"Function and Dimension\") +\n",
    "  theme_minimal()"
   ]
  },
  {
   "cell_type": "code",
   "execution_count": null,
   "metadata": {
    "vscode": {
     "languageId": "r"
    }
   },
   "outputs": [
    {
     "name": "stdout",
     "output_type": "stream",
     "text": [
      "[1] \"Generating plot for rosenbrock_2d PRS\"\n",
      "[1] \"Generating plot for rosenbrock_2d GA\"\n"
     ]
    },
    {
     "data": {
      "image/png": "[encoded data removed]",
      "text/plain": [
       "plot without title"
      ]
     },
     "metadata": {
      "image/png": {
       "height": 420,
       "width": 420
      }
     },
     "output_type": "display_data"
    },
    {
     "name": "stdout",
     "output_type": "stream",
     "text": [
      "[1] \"Generating plot for rosenbrock_10d PRS\"\n"
     ]
    },
    {
     "data": {
      "image/png": "[encoded data removed]",
      "text/plain": [
       "plot without title"
      ]
     },
     "metadata": {
      "image/png": {
       "height": 420,
       "width": 420
      }
     },
     "output_type": "display_data"
    },
    {
     "name": "stdout",
     "output_type": "stream",
     "text": [
      "[1] \"Generating plot for rosenbrock_10d GA\"\n"
     ]
    },
    {
     "data": {
      "image/png": "[encoded data removed]",
      "text/plain": [
       "plot without title"
      ]
     },
     "metadata": {
      "image/png": {
       "height": 420,
       "width": 420
      }
     },
     "output_type": "display_data"
    },
    {
     "name": "stdout",
     "output_type": "stream",
     "text": [
      "[1] \"Generating plot for rosenbrock_20d PRS\"\n"
     ]
    },
    {
     "data": {
      "image/png": "[encoded data removed]",
      "text/plain": [
       "plot without title"
      ]
     },
     "metadata": {
      "image/png": {
       "height": 420,
       "width": 420
      }
     },
     "output_type": "display_data"
    },
    {
     "name": "stdout",
     "output_type": "stream",
     "text": [
      "[1] \"Generating plot for rosenbrock_20d GA\"\n"
     ]
    },
    {
     "data": {
      "image/png": "[encoded data removed]",
      "text/plain": [
       "plot without title"
      ]
     },
     "metadata": {
      "image/png": {
       "height": 420,
       "width": 420
      }
     },
     "output_type": "display_data"
    },
    {
     "name": "stdout",
     "output_type": "stream",
     "text": [
      "[1] \"Generating plot for rastrigin_2d PRS\"\n"
     ]
    },
    {
     "data": {
      "image/png": "[encoded data removed]",
      "text/plain": [
       "plot without title"
      ]
     },
     "metadata": {
      "image/png": {
       "height": 420,
       "width": 420
      }
     },
     "output_type": "display_data"
    },
    {
     "name": "stdout",
     "output_type": "stream",
     "text": [
      "[1] \"Generating plot for rastrigin_2d GA\"\n"
     ]
    },
    {
     "data": {
      "image/png": "[encoded data removed]",
      "text/plain": [
       "plot without title"
      ]
     },
     "metadata": {
      "image/png": {
       "height": 420,
       "width": 420
      }
     },
     "output_type": "display_data"
    },
    {
     "name": "stdout",
     "output_type": "stream",
     "text": [
      "[1] \"Generating plot for rastrigin_10d PRS\"\n"
     ]
    },
    {
     "data": {
      "image/png": "[encoded data removed]",
      "text/plain": [
       "plot without title"
      ]
     },
     "metadata": {
      "image/png": {
       "height": 420,
       "width": 420
      }
     },
     "output_type": "display_data"
    },
    {
     "name": "stdout",
     "output_type": "stream",
     "text": [
      "[1] \"Generating plot for rastrigin_10d GA\"\n"
     ]
    },
    {
     "data": {
      "image/png": "[encoded data removed]",
      "text/plain": [
       "plot without title"
      ]
     },
     "metadata": {
      "image/png": {
       "height": 420,
       "width": 420
      }
     },
     "output_type": "display_data"
    },
    {
     "name": "stdout",
     "output_type": "stream",
     "text": [
      "[1] \"Generating plot for rastrigin_20d PRS\"\n"
     ]
    },
    {
     "data": {
      "image/png": "[encoded data removed]",
      "text/plain": [
       "plot without title"
      ]
     },
     "metadata": {
      "image/png": {
       "height": 420,
       "width": 420
      }
     },
     "output_type": "display_data"
    },
    {
     "name": "stdout",
     "output_type": "stream",
     "text": [
      "[1] \"Generating plot for rastrigin_20d GA\"\n"
     ]
    },
    {
     "data": {
      "image/png": "[encoded data removed]",
      "text/plain": [
       "plot without title"
      ]
     },
     "metadata": {
      "image/png": {
       "height": 420,
       "width": 420
      }
     },
     "output_type": "display_data"
    },
    {
     "data": {
      "image/png": "[encoded data removed]",
      "text/plain": [
       "plot without title"
      ]
     },
     "metadata": {
      "image/png": {
       "height": 420,
       "width": 420
      }
     },
     "output_type": "display_data"
    }
   ],
   "source": [
    "generate_plot <- function(data, function_name, algorithm_name) {\n",
    "  subset_data <- data %>%\n",
    "    filter(Function == function_name, Algorithm == algorithm_name)\n",
    "  \n",
    "  subset_data <- subset_data %>%\n",
    "    filter(!is.na(Value) & is.finite(Value))\n",
    "\n",
    "\n",
    "  # mean_value <- mean(subset_data$Value, na.rm = TRUE)\n",
    "  # mediana lepsza\n",
    "  median_value <- median(subset_data$Value, na.rm = TRUE)\n",
    "  iqr_value <- IQR(subset_data$Value, na.rm = TRUE)\n",
    "  \n",
    "  subset_data <- subset_data %>%\n",
    "    filter(Value >= (median_value - 3 * iqr_value) & Value <= (median_value + 3 * iqr_value))\n",
    "  \n",
    "  bin_width <- diff(range(subset_data$Value)) / 30\n",
    "  \n",
    "  ggplot(subset_data, aes(x = Value)) +\n",
    "    geom_histogram(binwidth = bin_width, fill = \"blue\", color = \"black\", alpha = 0.5) +\n",
    "    geom_vline(aes(xintercept = min(Value, na.rm = TRUE)), color = \"green\", size = 1) +\n",
    "    geom_vline(aes(xintercept = mean(Value, na.rm = TRUE)), color = \"red\", linetype = \"dashed\", size = 1) +\n",
    "    labs(\n",
    "      title = paste(function_name, algorithm_name),\n",
    "      x = \"Values\",\n",
    "      y = \"Count\"\n",
    "    ) +\n",
    "    theme_minimal()\n",
    "}\n",
    "\n",
    "for (function_name in c(\"rosenbrock_2d\", \"rosenbrock_10d\", \"rosenbrock_20d\", \"rastrigin_2d\", \"rastrigin_10d\", \"rastrigin_20d\")) {\n",
    "  for (algorithm_name in c(\"PRS\", \"GA\")) {\n",
    "    print(paste(\"Generating plot for\", function_name, algorithm_name))\n",
    "    plot <- generate_plot(results, function_name, algorithm_name)\n",
    "    if (!is.null(plot)) print(plot)\n",
    "  }\n",
    "}\n"
   ]
  },
  {
   "cell_type": "code",
   "execution_count": 37,
   "metadata": {
    "vscode": {
     "languageId": "r"
    }
   },
   "outputs": [
    {
     "data": {
      "text/plain": [
       "[[1]]\n",
       "\n",
       "\tWelch Two Sample t-test\n",
       "\n",
       "data:  ms_values and ga_values\n",
       "t = 7.6769, df = 50.794, p-value = 4.781e-10\n",
       "alternative hypothesis: true difference in means is not equal to 0\n",
       "95 percent confidence interval:\n",
       " 0.4658633 0.7958434\n",
       "sample estimates:\n",
       " mean of x  mean of y \n",
       "0.66194436 0.03109098 \n",
       "\n",
       "\n",
       "[[2]]\n",
       "\n",
       "\tWelch Two Sample t-test\n",
       "\n",
       "data:  ms_values and ga_values\n",
       "t = 17.909, df = 49.006, p-value < 2.2e-16\n",
       "alternative hypothesis: true difference in means is not equal to 0\n",
       "95 percent confidence interval:\n",
       " 26944.44 33755.64\n",
       "sample estimates:\n",
       "  mean of x   mean of y \n",
       "30448.02696    97.98833 \n",
       "\n",
       "\n",
       "[[3]]\n",
       "\n",
       "\tWelch Two Sample t-test\n",
       "\n",
       "data:  ms_values and ga_values\n",
       "t = 23.842, df = 49.003, p-value < 2.2e-16\n",
       "alternative hypothesis: true difference in means is not equal to 0\n",
       "95 percent confidence interval:\n",
       " 267045.2 316205.7\n",
       "sample estimates:\n",
       "  mean of x   mean of y \n",
       "291986.8879    361.4241 \n",
       "\n",
       "\n",
       "[[4]]\n",
       "\n",
       "\tWelch Two Sample t-test\n",
       "\n",
       "data:  ms_values and ga_values\n",
       "t = 10.17, df = 54.439, p-value = 3.423e-14\n",
       "alternative hypothesis: true difference in means is not equal to 0\n",
       "95 percent confidence interval:\n",
       " 1.121670 1.672396\n",
       "sample estimates:\n",
       " mean of x  mean of y \n",
       "1.43667504 0.03964177 \n",
       "\n",
       "\n",
       "[[5]]\n",
       "\n",
       "\tWelch Two Sample t-test\n",
       "\n",
       "data:  ms_values and ga_values\n",
       "t = 70.357, df = 64.833, p-value < 2.2e-16\n",
       "alternative hypothesis: true difference in means is not equal to 0\n",
       "95 percent confidence interval:\n",
       " 81.17220 85.91531\n",
       "sample estimates:\n",
       "mean of x mean of y \n",
       "88.143937  4.600181 \n",
       "\n",
       "\n",
       "[[6]]\n",
       "\n",
       "\tWelch Two Sample t-test\n",
       "\n",
       "data:  ms_values and ga_values\n",
       "t = 83.884, df = 70.774, p-value < 2.2e-16\n",
       "alternative hypothesis: true difference in means is not equal to 0\n",
       "95 percent confidence interval:\n",
       " 207.4024 217.5031\n",
       "sample estimates:\n",
       "mean of x mean of y \n",
       "225.72502  13.27226 \n",
       "\n"
      ]
     },
     "metadata": {},
     "output_type": "display_data"
    }
   ],
   "source": [
    "statistical_analysis <- function(results) {\n",
    "  results %>%\n",
    "    group_by(Function, Algorithm) %>%\n",
    "    summarise(Mean = mean(Value), SD = sd(Value)) %>%\n",
    "    ungroup()\n",
    "}\n",
    "\n",
    "t_tests <- lapply(names(experiments), function(fun) {\n",
    "  ms_values <- results %>% filter(Function == fun & Algorithm == \"PRS\") %>% pull(Value)\n",
    "  ga_values <- results %>% filter(Function == fun & Algorithm == \"GA\") %>% pull(Value)\n",
    "  t.test(ms_values, ga_values)\n",
    "})\n",
    "\n",
    "t_tests"
   ]
  }
 ],
 "metadata": {
  "kernelspec": {
   "display_name": "R",
   "language": "R",
   "name": "ir"
  },
  "language_info": {
   "codemirror_mode": "r",
   "file_extension": ".r",
   "mimetype": "text/x-r-source",
   "name": "R",
   "pygments_lexer": "r",
   "version": "4.4.1"
  }
 },
 "nbformat": 4,
 "nbformat_minor": 2
}
